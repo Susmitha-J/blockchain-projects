{
  "nbformat": 4,
  "nbformat_minor": 0,
  "metadata": {
    "colab": {
      "provenance": []
    },
    "kernelspec": {
      "name": "python3",
      "display_name": "Python 3"
    },
    "language_info": {
      "name": "python"
    }
  },
  "cells": [
    {
      "cell_type": "code",
      "execution_count": 101,
      "metadata": {
        "id": "ypGnLd1j01C_"
      },
      "outputs": [],
      "source": [
        "# Modified from\n",
        "# source: https://www.bogotobogo.com/python/python-REST-API-Http-Requests-for-Humans-with-Flask.php\n",
        "import requests\n",
        "\n",
        "# copy your ngrok URL and use it here\n",
        "url = 'https://8576-35-185-44-196.ngrok-free.app/'\n",
        "\n",
        "# default behavior of ngrok webpage is to display a warning page\n",
        "# let's bypass it using the following HTTP request header\n",
        "header = {\"ngrok-skip-browser-warning\" : \"1\"}\n"
      ]
    },
    {
      "cell_type": "code",
      "source": [
        "# test get method\n",
        "response = requests.get(url,headers=header)\n",
        "response.json()"
      ],
      "metadata": {
        "colab": {
          "base_uri": "https://localhost:8080/"
        },
        "id": "uICcIvfM7o09",
        "outputId": "1520c37e-1c0a-48fd-e0e4-8e4656c2d86a"
      },
      "execution_count": 102,
      "outputs": [
        {
          "output_type": "execute_result",
          "data": {
            "text/plain": [
              "{'message': 'Simple ledger webapp is up and running!'}"
            ]
          },
          "metadata": {},
          "execution_count": 102
        }
      ]
    },
    {
      "cell_type": "code",
      "source": [
        "# test get method with records URI\n",
        "response = requests.get(url + \"records\", headers=header)\n",
        "response.json()"
      ],
      "metadata": {
        "colab": {
          "base_uri": "https://localhost:8080/"
        },
        "id": "VEgGAFd42cly",
        "outputId": "48f99c2c-c751-42ad-9b04-077a5f9ba86c"
      },
      "execution_count": 103,
      "outputs": [
        {
          "output_type": "execute_result",
          "data": {
            "text/plain": [
              "{'records': [{'balance': 100, 'name': 'Joe'},\n",
              "  {'balance': 200, 'name': 'Bill'},\n",
              "  {'balance': 300, 'name': 'Mary'},\n",
              "  {'balance': 400, 'name': 'Mark'}]}"
            ]
          },
          "metadata": {},
          "execution_count": 103
        }
      ]
    },
    {
      "cell_type": "code",
      "source": [
        "# you can create json object and query data in it\n",
        "jsonObj = response.json()\n",
        "print(jsonObj)\n",
        "print(\"=======================\")\n",
        "print(jsonObj['records'][0]['name'])\n",
        "print(\"=======================\")\n",
        "print(jsonObj['records'][1]['balance'])"
      ],
      "metadata": {
        "colab": {
          "base_uri": "https://localhost:8080/"
        },
        "id": "-lrMa0CV2ppU",
        "outputId": "83c2b062-c01e-44db-e80d-231539431557"
      },
      "execution_count": 104,
      "outputs": [
        {
          "output_type": "stream",
          "name": "stdout",
          "text": [
            "{'records': [{'balance': 100, 'name': 'Joe'}, {'balance': 200, 'name': 'Bill'}, {'balance': 300, 'name': 'Mary'}, {'balance': 400, 'name': 'Mark'}]}\n",
            "=======================\n",
            "Joe\n",
            "=======================\n",
            "200\n"
          ]
        }
      ]
    },
    {
      "cell_type": "code",
      "source": [
        "# test records/<name> API\n",
        "response = requests.get(url + \"records/Mary\",headers=header)\n",
        "response.json()"
      ],
      "metadata": {
        "colab": {
          "base_uri": "https://localhost:8080/"
        },
        "id": "eS60VOyU3WUd",
        "outputId": "34195611-804d-4231-f4b8-20e68771ab88"
      },
      "execution_count": 105,
      "outputs": [
        {
          "output_type": "execute_result",
          "data": {
            "text/plain": [
              "{'balance': 300, 'name': 'Mary'}"
            ]
          },
          "metadata": {},
          "execution_count": 105
        }
      ]
    },
    {
      "cell_type": "code",
      "source": [
        "# test post method\n",
        "# crate a new json object and post\n",
        "response = requests.post(url + \"records\",headers=header, json={\"name\":\"Ted\",\"balance\":500})\n",
        "response.json()"
      ],
      "metadata": {
        "colab": {
          "base_uri": "https://localhost:8080/"
        },
        "id": "3HtI8qmM3e4_",
        "outputId": "aa1b9d19-4085-4a98-b5da-e597780bf16d"
      },
      "execution_count": 106,
      "outputs": [
        {
          "output_type": "execute_result",
          "data": {
            "text/plain": [
              "[{'balance': 100, 'name': 'Joe'},\n",
              " {'balance': 200, 'name': 'Bill'},\n",
              " {'balance': 300, 'name': 'Mary'},\n",
              " {'balance': 400, 'name': 'Mark'},\n",
              " {'balance': 500, 'name': 'Ted'}]"
            ]
          },
          "metadata": {},
          "execution_count": 106
        }
      ]
    },
    {
      "cell_type": "code",
      "source": [
        "# update top record by replacing it with bottom record\n",
        "response = requests.put(url + \"records/Ted\",headers=header, json={\"name\":\"Ned\",\"balance\":600})\n",
        "response.json()"
      ],
      "metadata": {
        "colab": {
          "base_uri": "https://localhost:8080/"
        },
        "id": "HPrBdHBR3tCE",
        "outputId": "0f757327-8ae7-4cc2-83b8-7e078ab4df23"
      },
      "execution_count": 107,
      "outputs": [
        {
          "output_type": "execute_result",
          "data": {
            "text/plain": [
              "[{'balance': 100, 'name': 'Joe'},\n",
              " {'balance': 200, 'name': 'Bill'},\n",
              " {'balance': 300, 'name': 'Mary'},\n",
              " {'balance': 400, 'name': 'Mark'},\n",
              " {'balance': 600, 'name': 'Ned'}]"
            ]
          },
          "metadata": {},
          "execution_count": 107
        }
      ]
    },
    {
      "cell_type": "code",
      "source": [
        "# test delete API\n",
        "response = requests.delete(url + \"records/Ned\", headers=header)\n",
        "response.json()\n"
      ],
      "metadata": {
        "id": "P2lNZ4Um4nL8",
        "colab": {
          "base_uri": "https://localhost:8080/"
        },
        "outputId": "c994c78b-bf6c-4016-8af6-d5bf40dc1e09"
      },
      "execution_count": 108,
      "outputs": [
        {
          "output_type": "execute_result",
          "data": {
            "text/plain": [
              "[{'balance': 100, 'name': 'Joe'},\n",
              " {'balance': 200, 'name': 'Bill'},\n",
              " {'balance': 300, 'name': 'Mary'},\n",
              " {'balance': 400, 'name': 'Mark'}]"
            ]
          },
          "metadata": {},
          "execution_count": 108
        }
      ]
    },
    {
      "cell_type": "code",
      "source": [
        "response = requests.put(url + \"records/transaction\",headers=header, json={\"sender\":\"Mark\",\"receiver\":\"Joe\", \"sent_amt\":150})\n",
        "response.json()"
      ],
      "metadata": {
        "colab": {
          "base_uri": "https://localhost:8080/"
        },
        "id": "3KHpcpbu2rQ9",
        "outputId": "2808d032-a0db-429e-aedf-d20bae85f84a"
      },
      "execution_count": 109,
      "outputs": [
        {
          "output_type": "execute_result",
          "data": {
            "text/plain": [
              "{'records': [{'balance': 250, 'name': 'Joe'},\n",
              "  {'balance': 200, 'name': 'Bill'},\n",
              "  {'balance': 300, 'name': 'Mary'},\n",
              "  {'balance': 250, 'name': 'Mark'}]}"
            ]
          },
          "metadata": {},
          "execution_count": 109
        }
      ]
    }
  ]
}