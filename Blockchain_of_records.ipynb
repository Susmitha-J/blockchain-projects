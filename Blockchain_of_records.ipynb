{
  "nbformat": 4,
  "nbformat_minor": 0,
  "metadata": {
    "colab": {
      "provenance": []
    },
    "kernelspec": {
      "name": "python3",
      "display_name": "Python 3"
    },
    "language_info": {
      "name": "python"
    }
  },
  "cells": [
    {
      "cell_type": "code",
      "source": [
        "%%html\n",
        "<h1 style=\"color:orange;\">INTRO TO BLOCK CHAIN ENGINEERING - PROJECT-11 Block chain of records - 12613141</h1>"
      ],
      "metadata": {
        "colab": {
          "base_uri": "https://localhost:8080/",
          "height": 74
        },
        "id": "J-UUGhUGVWA-",
        "outputId": "cbbdb671-b156-4e10-e168-93cee17ade82"
      },
      "execution_count": 10,
      "outputs": [
        {
          "output_type": "display_data",
          "data": {
            "text/plain": [
              "<IPython.core.display.HTML object>"
            ],
            "text/html": [
              "<h1 style=\"color:orange;\">INTRO TO BLOCK CHAIN ENGINEERING - PROJECT-11 Block chain of records - 12613141</h1>\n"
            ]
          },
          "metadata": {}
        }
      ]
    },
    {
      "cell_type": "code",
      "source": [
        "!pip install faker"
      ],
      "metadata": {
        "colab": {
          "base_uri": "https://localhost:8080/"
        },
        "id": "mDAPCSvd7MXP",
        "outputId": "7d7a9ba6-b813-47f1-e9d6-c7631ce45a38"
      },
      "execution_count": 1,
      "outputs": [
        {
          "output_type": "stream",
          "name": "stdout",
          "text": [
            "Requirement already satisfied: faker in /usr/local/lib/python3.10/dist-packages (25.0.0)\n",
            "Requirement already satisfied: python-dateutil>=2.4 in /usr/local/lib/python3.10/dist-packages (from faker) (2.8.2)\n",
            "Requirement already satisfied: six>=1.5 in /usr/local/lib/python3.10/dist-packages (from python-dateutil>=2.4->faker) (1.16.0)\n"
          ]
        }
      ]
    },
    {
      "cell_type": "code",
      "source": [
        "import json\n",
        "from faker import Faker\n",
        "import datetime\n",
        "\n",
        "def generate_fake_record():\n",
        "    \"\"\"\n",
        "    This method is helper function to generate fake profile using faker library such that object is json serialisable\n",
        "    \"\"\"\n",
        "    fake = Faker()\n",
        "    fake_datetime = fake.date_time()\n",
        "    email = fake.email().split('@')[0] + fake.random_element(['@gmail.com', '@mst.edu'])\n",
        "    record = {\n",
        "        'username': fake.user_name(),\n",
        "        'name': fake.name(),\n",
        "        'sex': fake.random_element(['M', 'F']),\n",
        "        'address': fake.address(),\n",
        "        'mail': email,\n",
        "        'birthdate': fake_datetime.strftime('%Y-%m-%d %H:%M:%S')\n",
        "    }\n",
        "    return record\n",
        "\n",
        "# Generate record with datetime birthdate\n",
        "record = generate_fake_record()\n",
        "print(record)"
      ],
      "metadata": {
        "colab": {
          "base_uri": "https://localhost:8080/"
        },
        "id": "HUofc5g96wck",
        "outputId": "c0ac076a-65e0-4749-b872-7f19550d5b07"
      },
      "execution_count": 2,
      "outputs": [
        {
          "output_type": "stream",
          "name": "stdout",
          "text": [
            "{'username': 'jamiemora', 'name': 'Dr. Michael Rodriguez', 'sex': 'M', 'address': '50991 Brian Orchard\\nSouth Colleen, IL 44423', 'mail': 'shannon23@mst.edu', 'birthdate': '1993-03-30 07:10:02'}\n"
          ]
        }
      ]
    },
    {
      "cell_type": "code",
      "execution_count": 3,
      "metadata": {
        "id": "MSUXcgMO5hI-"
      },
      "outputs": [],
      "source": [
        "# source: https://github.com/karmus89/blockchain-a-z\n",
        "\n",
        "import datetime\n",
        "import hashlib\n",
        "import json\n",
        "import sys\n",
        "\n",
        "\n",
        "class Blockchain:\n",
        "\n",
        "    def __init__(self):\n",
        "\n",
        "        self.chain = []\n",
        "        self.create_block(proof=1, previous_hash='0')\n",
        "\n",
        "    def create_block(self, proof, previous_hash):\n",
        "        \"Create a block.\"\n",
        "        #Adding new field record to the existing block structure\n",
        "        block = {\n",
        "            'index': len(self.chain),\n",
        "            'timestamp': str(datetime.datetime.now()),\n",
        "            'proof': proof,\n",
        "            'previous_hash': previous_hash,\n",
        "            'record': generate_fake_record()\n",
        "        }\n",
        "        self.chain.append(block)\n",
        "\n",
        "        return block\n",
        "\n",
        "    def get_previous_block(self):\n",
        "\n",
        "        return self.chain[-1]\n",
        "\n",
        "    def hash_proof(self, previous_proof, next_proof):\n",
        "        \"Calculate the SHA256-hash\"\n",
        "\n",
        "        return (hashlib\n",
        "                .sha256(str(next_proof**2 - previous_proof**2).encode())\n",
        "                .hexdigest())\n",
        "\n",
        "    def hash_block(self, block):\n",
        "        \"Calculate the SHA256-hash for a block.\"\n",
        "\n",
        "        encoded_block = json.dumps(block, sort_keys=True).encode()\n",
        "\n",
        "        return hashlib.sha256(encoded_block).hexdigest()\n",
        "\n",
        "    def proof_of_work(self, previous_proof):\n",
        "        \"Calculate a new proof related to the previous block.\"\n",
        "\n",
        "        next_proof = 1\n",
        "        check_proof = False\n",
        "\n",
        "        while check_proof is False:\n",
        "\n",
        "            if self.hash_proof(previous_proof, next_proof)[:4] == '0000':\n",
        "                check_proof = True\n",
        "\n",
        "            else:\n",
        "                next_proof += 1\n",
        "\n",
        "        return next_proof\n",
        "\n",
        "    def is_chain_valid(self, chain):\n",
        "        \"Validate that block and proof hashes are correct across the chain.\"\n",
        "\n",
        "        for i in range(len(chain)):\n",
        "\n",
        "            if i == 0:\n",
        "                continue\n",
        "\n",
        "            if chain[i]['previous_hash'] != self.hash_block(chain[i-1]):\n",
        "                return False\n",
        "\n",
        "            previous_proof = chain[i-1]['proof']\n",
        "            next_proof = chain[i]['proof']\n",
        "\n",
        "            if self.hash_proof(previous_proof, next_proof)[:4] != '0000':\n",
        "\n",
        "                return False\n",
        "\n",
        "        return True"
      ]
    },
    {
      "cell_type": "code",
      "source": [
        "import threading\n",
        "import requests\n",
        "\n",
        "from flask import Flask, request, jsonify\n",
        "from werkzeug.serving import run_simple\n",
        "\n",
        "\n",
        "class BlockchainApp:\n",
        "\n",
        "    def __init__(self, host='localhost', port=5000, chain=Blockchain):\n",
        "\n",
        "        self.host = host\n",
        "        self.port = port\n",
        "        self.chain = chain()\n",
        "\n",
        "        self.host_url = f'http://{self.host}:{self.port}'\n",
        "\n",
        "        self.app = Flask(__name__)\n",
        "        self.add_api_endpoints()\n",
        "\n",
        "        self.thread = threading.Thread(\n",
        "            target=run_simple,\n",
        "            kwargs={\n",
        "                'hostname': self.host,\n",
        "                'port': self.port,\n",
        "                'application': self.app}\n",
        "        )\n",
        "\n",
        "    def __enter__(self):\n",
        "\n",
        "        self.start()\n",
        "\n",
        "        return self\n",
        "\n",
        "    def __exit__(self, *args):\n",
        "\n",
        "        self.stop()\n",
        "\n",
        "    def add_api_endpoints(self):\n",
        "        \"Add API endpoints to the Flask WebApp.\"\n",
        "\n",
        "        self.app.add_url_rule(\n",
        "            rule='/blocks',\n",
        "            view_func=self.api_blocks,\n",
        "            methods=['GET', 'POST']\n",
        "        )\n",
        "        self.app.add_url_rule(\n",
        "            rule='/blocks/validate',\n",
        "            view_func=self.api_validate,\n",
        "        )\n",
        "        self.app.add_url_rule(\n",
        "            rule='/shutdown',\n",
        "            view_func=self.api_shutdown,\n",
        "        )\n",
        "\n",
        "    def api_blocks(self):\n",
        "        \"Either retrieve the node's current chain or post a new block to the chain.\"\n",
        "\n",
        "        if request.method == 'POST':\n",
        "\n",
        "            prev_block = self.chain.get_previous_block()\n",
        "            prev_hash = self.chain.hash_block(prev_block)\n",
        "            prev_proof = prev_block['proof']\n",
        "\n",
        "            proof = self.chain.proof_of_work(prev_proof)\n",
        "\n",
        "            block = self.chain.create_block(proof, prev_hash)\n",
        "\n",
        "            response = {'message': 'Congratulations, you just mined a Block!',\n",
        "                        'block': block}\n",
        "\n",
        "            return (jsonify(response), 200)\n",
        "\n",
        "        if request.method == 'GET':\n",
        "\n",
        "            response = {'chain': self.chain.chain,\n",
        "                        'length': len(self.chain.chain)}\n",
        "\n",
        "            return (jsonify(response), 200)\n",
        "\n",
        "    def api_validate(self):\n",
        "        \"Validate the chain\"\n",
        "\n",
        "        if self.chain.is_chain_valid(self.chain.chain):\n",
        "\n",
        "            response = {'message': 'Chain is valid.',\n",
        "                        'valid': True}\n",
        "            return (jsonify(response), 200)\n",
        "\n",
        "        else:\n",
        "\n",
        "            response = {'message': 'Chain is not valid!',\n",
        "                        'valid': False}\n",
        "            return (jsonify(response), 500)\n",
        "\n",
        "    def api_shutdown(self):\n",
        "        \"Shutdown the Flask WebApp\"\n",
        "\n",
        "        # depricated\n",
        "        # request.environ.get('werkzeug.server.shutdown')()\n",
        "\n",
        "        return jsonify({'message': 'Shutting down'}), 200\n",
        "\n",
        "    def start(self):\n",
        "        \"Start the Flask-based Blockchain WebApp.\"\n",
        "\n",
        "        self.thread.start()\n",
        "\n",
        "    def stop(self):\n",
        "        \"Stop the Flask-based Blockchain WebApp.\"\n",
        "\n",
        "        if self.thread.is_alive():\n",
        "\n",
        "            return requests.get(f'{self.host_url}/shutdown')"
      ],
      "metadata": {
        "id": "iH3A3ydF6SPp"
      },
      "execution_count": 4,
      "outputs": []
    },
    {
      "cell_type": "code",
      "source": [
        "\"\"\"\n",
        "Helper functions to validate mail and date of births\n",
        "\"\"\"\n",
        "\n",
        "# Function to find names of people with gmail.com email from the blockchain\n",
        "def find_gmail_users(blockchain):\n",
        "    gmail_users = []\n",
        "    for block in blockchain:\n",
        "        if 'mail' in block['record'] and block['record']['mail'].endswith('@gmail.com'):\n",
        "            gmail_users.append(block['record']['name'])\n",
        "    return gmail_users\n",
        "\n",
        "# Function to find usernames of people born on or after 2000-01-01 from the blockchain\n",
        "def find_young_users(blockchain):\n",
        "    young_users = []\n",
        "    for block in blockchain:\n",
        "        if 'record' in block and 'birthdate' in block['record'] and block['record']['birthdate'] >= '2000-01-01':\n",
        "            young_users.append(block['record']['username'])\n",
        "    return young_users"
      ],
      "metadata": {
        "id": "j9iOjRkK_nwF"
      },
      "execution_count": 5,
      "outputs": []
    },
    {
      "cell_type": "code",
      "source": [
        "import time\n",
        "# Test the modified blockchain node\n",
        "with BlockchainApp() as blockchain_app:\n",
        "    # Wait for server thread ready\n",
        "\n",
        "    # a. Request to mine 30 blocks\n",
        "    print(\"Mining 30 blocks...\")\n",
        "    for _ in range(30):\n",
        "        response = requests.post(f'{blockchain_app.host_url}/blocks')\n",
        "        print(f\"Proof: {response.json()['block']['proof']}\")\n",
        "    # Print the resulting blockchain after mining\n",
        "\n",
        "    response = requests.get(f'{blockchain_app.host_url}/blocks')\n",
        "    print(\"Chain={}\".format(json.dumps(response.json(), indent=2)))\n",
        "\n",
        "    for i in enumerate(blockchain_app.chain.chain):\n",
        "      print(i)\n",
        "    # b. Find names of all people who have gmail.com email from the blockchain\n",
        "    print(\"\\nNames of people with gmail.com email:\")\n",
        "    for name in find_gmail_users(blockchain_app.chain.chain):\n",
        "        print(name)\n",
        "    # c. Find usernames of people born on or after 2000-01-01 from the blockchain\n",
        "    print(\"\\nUsernames of people born on or after 2000-01-01:\")\n",
        "    for username in find_young_users(blockchain_app.chain.chain):\n",
        "        print(username)\n",
        "    # d. Request to validate the blockchain\n",
        "    response = requests.get(f'{blockchain_app.host_url}/blocks/validate')\n",
        "    print(\"\\nValidation result after mining 30 blocks:\", response.json())\n",
        "    # e. Create a new profile record and overwrite the 3rd block's record field with it\n",
        "    new_record = generate_fake_record()\n",
        "    blockchain_app.chain.chain[2]['record'] = [new_record]\n",
        "    # f. Request to validate the altered blockchain\n",
        "    response = requests.get(f'{blockchain_app.host_url}/blocks/validate')\n",
        "    print(\"\\nValidation result after altering the 3rd block's record:\", response.json())"
      ],
      "metadata": {
        "colab": {
          "base_uri": "https://localhost:8080/"
        },
        "id": "QtJHfo8i-qxE",
        "outputId": "775a62e5-4b73-4a1a-cad9-28e6bdc0a61a"
      },
      "execution_count": 6,
      "outputs": [
        {
          "output_type": "stream",
          "name": "stderr",
          "text": [
            "INFO:werkzeug:\u001b[31m\u001b[1mWARNING: This is a development server. Do not use it in a production deployment. Use a production WSGI server instead.\u001b[0m\n",
            " * Running on http://localhost:5000\n",
            "INFO:werkzeug:\u001b[33mPress CTRL+C to quit\u001b[0m\n",
            "INFO:werkzeug:127.0.0.1 - - [30/Apr/2024 00:07:05] \"POST /blocks HTTP/1.1\" 200 -\n"
          ]
        },
        {
          "output_type": "stream",
          "name": "stdout",
          "text": [
            "Mining 30 blocks...\n",
            "Proof: 533\n"
          ]
        },
        {
          "output_type": "stream",
          "name": "stderr",
          "text": [
            "INFO:werkzeug:127.0.0.1 - - [30/Apr/2024 00:07:06] \"POST /blocks HTTP/1.1\" 200 -\n",
            "INFO:werkzeug:127.0.0.1 - - [30/Apr/2024 00:07:06] \"POST /blocks HTTP/1.1\" 200 -\n",
            "INFO:werkzeug:127.0.0.1 - - [30/Apr/2024 00:07:06] \"POST /blocks HTTP/1.1\" 200 -\n"
          ]
        },
        {
          "output_type": "stream",
          "name": "stdout",
          "text": [
            "Proof: 45293\n",
            "Proof: 21391\n",
            "Proof: 8018\n"
          ]
        },
        {
          "output_type": "stream",
          "name": "stderr",
          "text": [
            "INFO:werkzeug:127.0.0.1 - - [30/Apr/2024 00:07:06] \"POST /blocks HTTP/1.1\" 200 -\n",
            "INFO:werkzeug:127.0.0.1 - - [30/Apr/2024 00:07:06] \"POST /blocks HTTP/1.1\" 200 -\n"
          ]
        },
        {
          "output_type": "stream",
          "name": "stdout",
          "text": [
            "Proof: 48191\n",
            "Proof: 19865\n"
          ]
        },
        {
          "output_type": "stream",
          "name": "stderr",
          "text": [
            "INFO:werkzeug:127.0.0.1 - - [30/Apr/2024 00:07:07] \"POST /blocks HTTP/1.1\" 200 -\n",
            "INFO:werkzeug:127.0.0.1 - - [30/Apr/2024 00:07:07] \"POST /blocks HTTP/1.1\" 200 -\n",
            "INFO:werkzeug:127.0.0.1 - - [30/Apr/2024 00:07:07] \"POST /blocks HTTP/1.1\" 200 -\n"
          ]
        },
        {
          "output_type": "stream",
          "name": "stdout",
          "text": [
            "Proof: 95063\n",
            "Proof: 15457\n",
            "Proof: 15479\n"
          ]
        },
        {
          "output_type": "stream",
          "name": "stderr",
          "text": [
            "INFO:werkzeug:127.0.0.1 - - [30/Apr/2024 00:07:07] \"POST /blocks HTTP/1.1\" 200 -\n"
          ]
        },
        {
          "output_type": "stream",
          "name": "stdout",
          "text": [
            "Proof: 7889\n"
          ]
        },
        {
          "output_type": "stream",
          "name": "stderr",
          "text": [
            "INFO:werkzeug:127.0.0.1 - - [30/Apr/2024 00:07:07] \"POST /blocks HTTP/1.1\" 200 -\n"
          ]
        },
        {
          "output_type": "stream",
          "name": "stdout",
          "text": [
            "Proof: 72474\n"
          ]
        },
        {
          "output_type": "stream",
          "name": "stderr",
          "text": [
            "INFO:werkzeug:127.0.0.1 - - [30/Apr/2024 00:07:08] \"POST /blocks HTTP/1.1\" 200 -\n",
            "INFO:werkzeug:127.0.0.1 - - [30/Apr/2024 00:07:08] \"POST /blocks HTTP/1.1\" 200 -\n"
          ]
        },
        {
          "output_type": "stream",
          "name": "stdout",
          "text": [
            "Proof: 126616\n",
            "Proof: 64161\n"
          ]
        },
        {
          "output_type": "stream",
          "name": "stderr",
          "text": [
            "INFO:werkzeug:127.0.0.1 - - [30/Apr/2024 00:07:08] \"POST /blocks HTTP/1.1\" 200 -\n",
            "INFO:werkzeug:127.0.0.1 - - [30/Apr/2024 00:07:08] \"POST /blocks HTTP/1.1\" 200 -\n",
            "INFO:werkzeug:127.0.0.1 - - [30/Apr/2024 00:07:08] \"POST /blocks HTTP/1.1\" 200 -\n"
          ]
        },
        {
          "output_type": "stream",
          "name": "stdout",
          "text": [
            "Proof: 144125\n",
            "Proof: 2492\n",
            "Proof: 22592\n"
          ]
        },
        {
          "output_type": "stream",
          "name": "stderr",
          "text": [
            "INFO:werkzeug:127.0.0.1 - - [30/Apr/2024 00:07:08] \"POST /blocks HTTP/1.1\" 200 -\n",
            "INFO:werkzeug:127.0.0.1 - - [30/Apr/2024 00:07:09] \"POST /blocks HTTP/1.1\" 200 -\n"
          ]
        },
        {
          "output_type": "stream",
          "name": "stdout",
          "text": [
            "Proof: 107780\n",
            "Proof: 47346\n"
          ]
        },
        {
          "output_type": "stream",
          "name": "stderr",
          "text": [
            "INFO:werkzeug:127.0.0.1 - - [30/Apr/2024 00:07:09] \"POST /blocks HTTP/1.1\" 200 -\n"
          ]
        },
        {
          "output_type": "stream",
          "name": "stdout",
          "text": [
            "Proof: 46891\n"
          ]
        },
        {
          "output_type": "stream",
          "name": "stderr",
          "text": [
            "INFO:werkzeug:127.0.0.1 - - [30/Apr/2024 00:07:09] \"POST /blocks HTTP/1.1\" 200 -\n"
          ]
        },
        {
          "output_type": "stream",
          "name": "stdout",
          "text": [
            "Proof: 91004\n"
          ]
        },
        {
          "output_type": "stream",
          "name": "stderr",
          "text": [
            "INFO:werkzeug:127.0.0.1 - - [30/Apr/2024 00:07:09] \"POST /blocks HTTP/1.1\" 200 -\n"
          ]
        },
        {
          "output_type": "stream",
          "name": "stdout",
          "text": [
            "Proof: 200907\n"
          ]
        },
        {
          "output_type": "stream",
          "name": "stderr",
          "text": [
            "INFO:werkzeug:127.0.0.1 - - [30/Apr/2024 00:07:10] \"POST /blocks HTTP/1.1\" 200 -\n",
            "INFO:werkzeug:127.0.0.1 - - [30/Apr/2024 00:07:10] \"POST /blocks HTTP/1.1\" 200 -\n"
          ]
        },
        {
          "output_type": "stream",
          "name": "stdout",
          "text": [
            "Proof: 133432\n",
            "Proof: 43978\n"
          ]
        },
        {
          "output_type": "stream",
          "name": "stderr",
          "text": [
            "INFO:werkzeug:127.0.0.1 - - [30/Apr/2024 00:07:10] \"POST /blocks HTTP/1.1\" 200 -\n"
          ]
        },
        {
          "output_type": "stream",
          "name": "stdout",
          "text": [
            "Proof: 174790\n"
          ]
        },
        {
          "output_type": "stream",
          "name": "stderr",
          "text": [
            "INFO:werkzeug:127.0.0.1 - - [30/Apr/2024 00:07:11] \"POST /blocks HTTP/1.1\" 200 -\n",
            "INFO:werkzeug:127.0.0.1 - - [30/Apr/2024 00:07:11] \"POST /blocks HTTP/1.1\" 200 -\n"
          ]
        },
        {
          "output_type": "stream",
          "name": "stdout",
          "text": [
            "Proof: 56224\n",
            "Proof: 17995\n"
          ]
        },
        {
          "output_type": "stream",
          "name": "stderr",
          "text": [
            "INFO:werkzeug:127.0.0.1 - - [30/Apr/2024 00:07:11] \"POST /blocks HTTP/1.1\" 200 -\n",
            "INFO:werkzeug:127.0.0.1 - - [30/Apr/2024 00:07:11] \"POST /blocks HTTP/1.1\" 200 -\n"
          ]
        },
        {
          "output_type": "stream",
          "name": "stdout",
          "text": [
            "Proof: 41769\n",
            "Proof: 37872\n"
          ]
        },
        {
          "output_type": "stream",
          "name": "stderr",
          "text": [
            "INFO:werkzeug:127.0.0.1 - - [30/Apr/2024 00:07:11] \"POST /blocks HTTP/1.1\" 200 -\n"
          ]
        },
        {
          "output_type": "stream",
          "name": "stdout",
          "text": [
            "Proof: 56560\n"
          ]
        },
        {
          "output_type": "stream",
          "name": "stderr",
          "text": [
            "INFO:werkzeug:127.0.0.1 - - [30/Apr/2024 00:07:12] \"POST /blocks HTTP/1.1\" 200 -\n",
            "INFO:werkzeug:127.0.0.1 - - [30/Apr/2024 00:07:12] \"GET /blocks HTTP/1.1\" 200 -\n",
            "INFO:werkzeug:127.0.0.1 - - [30/Apr/2024 00:07:12] \"GET /blocks/validate HTTP/1.1\" 200 -\n",
            "INFO:werkzeug:127.0.0.1 - - [30/Apr/2024 00:07:12] \"\u001b[35m\u001b[1mGET /blocks/validate HTTP/1.1\u001b[0m\" 500 -\n",
            "INFO:werkzeug:127.0.0.1 - - [30/Apr/2024 00:07:12] \"GET /shutdown HTTP/1.1\" 200 -\n"
          ]
        },
        {
          "output_type": "stream",
          "name": "stdout",
          "text": [
            "Proof: 93290\n",
            "Chain={\n",
            "  \"chain\": [\n",
            "    {\n",
            "      \"index\": 0,\n",
            "      \"previous_hash\": \"0\",\n",
            "      \"proof\": 1,\n",
            "      \"record\": {\n",
            "        \"address\": \"5751 Mejia Walks Apt. 019\\nSouth Staciefurt, MO 77029\",\n",
            "        \"birthdate\": \"2009-06-03 06:45:46\",\n",
            "        \"mail\": \"nwoodard@gmail.com\",\n",
            "        \"name\": \"Michael Adkins\",\n",
            "        \"sex\": \"M\",\n",
            "        \"username\": \"williamnewman\"\n",
            "      },\n",
            "      \"timestamp\": \"2024-04-30 00:07:05.799924\"\n",
            "    },\n",
            "    {\n",
            "      \"index\": 1,\n",
            "      \"previous_hash\": \"b5232e8d64d14eac4f8fe91031858be45b2c12a8b8f8100be7c32c3e324ea80b\",\n",
            "      \"proof\": 533,\n",
            "      \"record\": {\n",
            "        \"address\": \"3951 Kelly Pike Suite 467\\nMartinberg, ID 55766\",\n",
            "        \"birthdate\": \"1981-10-02 12:08:28\",\n",
            "        \"mail\": \"cpugh@mst.edu\",\n",
            "        \"name\": \"Steven Bradley\",\n",
            "        \"sex\": \"F\",\n",
            "        \"username\": \"mortonelizabeth\"\n",
            "      },\n",
            "      \"timestamp\": \"2024-04-30 00:07:05.871674\"\n",
            "    },\n",
            "    {\n",
            "      \"index\": 2,\n",
            "      \"previous_hash\": \"dc90e02e6472db97182c1d18787439aa28012f5a68db65effa87930a9b55d1e2\",\n",
            "      \"proof\": 45293,\n",
            "      \"record\": {\n",
            "        \"address\": \"80968 Jacob Wall\\nSouth Samuelmouth, NV 56607\",\n",
            "        \"birthdate\": \"2022-06-10 21:06:20\",\n",
            "        \"mail\": \"curtisheather@gmail.com\",\n",
            "        \"name\": \"Rachel Simmons\",\n",
            "        \"sex\": \"M\",\n",
            "        \"username\": \"brenda46\"\n",
            "      },\n",
            "      \"timestamp\": \"2024-04-30 00:07:06.086911\"\n",
            "    },\n",
            "    {\n",
            "      \"index\": 3,\n",
            "      \"previous_hash\": \"9811ec7be447e52ec266e02d466506363375c36f61b414a317c7a06048de38d4\",\n",
            "      \"proof\": 21391,\n",
            "      \"record\": {\n",
            "        \"address\": \"989 Gallagher Landing Apt. 528\\nNorth Glendaborough, OH 32517\",\n",
            "        \"birthdate\": \"2008-02-22 16:44:06\",\n",
            "        \"mail\": \"thansen@mst.edu\",\n",
            "        \"name\": \"Anthony Cross\",\n",
            "        \"sex\": \"M\",\n",
            "        \"username\": \"jeremybishop\"\n",
            "      },\n",
            "      \"timestamp\": \"2024-04-30 00:07:06.207342\"\n",
            "    },\n",
            "    {\n",
            "      \"index\": 4,\n",
            "      \"previous_hash\": \"1a2d358efb09c6097a41c16b9f3b10620b434c4878e1a5f7c655d8bd6d5fb275\",\n",
            "      \"proof\": 8018,\n",
            "      \"record\": {\n",
            "        \"address\": \"38215 Megan Circle\\nLake Antonio, UT 53466\",\n",
            "        \"birthdate\": \"2015-01-02 00:41:33\",\n",
            "        \"mail\": \"clarksarah@mst.edu\",\n",
            "        \"name\": \"Ashley Cole\",\n",
            "        \"sex\": \"M\",\n",
            "        \"username\": \"rachel85\"\n",
            "      },\n",
            "      \"timestamp\": \"2024-04-30 00:07:06.277266\"\n",
            "    },\n",
            "    {\n",
            "      \"index\": 5,\n",
            "      \"previous_hash\": \"0bb566d6bcd62aed7d2325c475f7390f7ae4bf44cda3a1b5f58c600a88b9bb88\",\n",
            "      \"proof\": 48191,\n",
            "      \"record\": {\n",
            "        \"address\": \"566 Grant Wall\\nMackborough, NY 62977\",\n",
            "        \"birthdate\": \"2000-12-11 10:27:46\",\n",
            "        \"mail\": \"taylorchristopher@mst.edu\",\n",
            "        \"name\": \"Michael Buckley\",\n",
            "        \"sex\": \"M\",\n",
            "        \"username\": \"bwu\"\n",
            "      },\n",
            "      \"timestamp\": \"2024-04-30 00:07:06.530066\"\n",
            "    },\n",
            "    {\n",
            "      \"index\": 6,\n",
            "      \"previous_hash\": \"435641801ac73c9149eac27ffe764ef147113b67da47da3a88de60defe9c1def\",\n",
            "      \"proof\": 19865,\n",
            "      \"record\": {\n",
            "        \"address\": \"285 Todd Loaf\\nAllisonmouth, MD 83076\",\n",
            "        \"birthdate\": \"1991-09-03 18:52:01\",\n",
            "        \"mail\": \"coryadams@mst.edu\",\n",
            "        \"name\": \"Mary Floyd\",\n",
            "        \"sex\": \"F\",\n",
            "        \"username\": \"cramos\"\n",
            "      },\n",
            "      \"timestamp\": \"2024-04-30 00:07:06.667225\"\n",
            "    },\n",
            "    {\n",
            "      \"index\": 7,\n",
            "      \"previous_hash\": \"c0faab404cbbc5fa9174243acdf78703da2a06f4f710a8b443cf143612faf9c0\",\n",
            "      \"proof\": 95063,\n",
            "      \"record\": {\n",
            "        \"address\": \"030 Heather Lakes Suite 751\\nNorth Andrewland, LA 91800\",\n",
            "        \"birthdate\": \"1998-02-16 08:28:04\",\n",
            "        \"mail\": \"christine18@mst.edu\",\n",
            "        \"name\": \"John Allison\",\n",
            "        \"sex\": \"M\",\n",
            "        \"username\": \"chelsea59\"\n",
            "      },\n",
            "      \"timestamp\": \"2024-04-30 00:07:07.072103\"\n",
            "    },\n",
            "    {\n",
            "      \"index\": 8,\n",
            "      \"previous_hash\": \"a43e02d5eb2f8fb6b1ffdab56c4637ef5f61242ab411e140de3c39209b7f74e0\",\n",
            "      \"proof\": 15457,\n",
            "      \"record\": {\n",
            "        \"address\": \"68675 Mccarty Extensions\\nEdwardport, LA 09538\",\n",
            "        \"birthdate\": \"1998-01-14 18:52:33\",\n",
            "        \"mail\": \"wdavis@gmail.com\",\n",
            "        \"name\": \"Scott Anderson\",\n",
            "        \"sex\": \"F\",\n",
            "        \"username\": \"martinezbrenda\"\n",
            "      },\n",
            "      \"timestamp\": \"2024-04-30 00:07:07.174221\"\n",
            "    },\n",
            "    {\n",
            "      \"index\": 9,\n",
            "      \"previous_hash\": \"daa699efa3c6283e3798859a58a915c63e8320056566655266f731de43f61207\",\n",
            "      \"proof\": 15479,\n",
            "      \"record\": {\n",
            "        \"address\": \"729 Parrish Manor\\nYangborough, MN 22104\",\n",
            "        \"birthdate\": \"2008-01-04 16:45:20\",\n",
            "        \"mail\": \"trandavid@gmail.com\",\n",
            "        \"name\": \"Jennifer Ferguson\",\n",
            "        \"sex\": \"M\",\n",
            "        \"username\": \"wolfekathleen\"\n",
            "      },\n",
            "      \"timestamp\": \"2024-04-30 00:07:07.273169\"\n",
            "    },\n",
            "    {\n",
            "      \"index\": 10,\n",
            "      \"previous_hash\": \"c34789c939810917c04fb0be95b97276ed8c341c531817f3ed019f76ca8d6d1f\",\n",
            "      \"proof\": 7889,\n",
            "      \"record\": {\n",
            "        \"address\": \"959 Williams Row\\nLake Michaela, MT 05505\",\n",
            "        \"birthdate\": \"1996-09-29 04:32:03\",\n",
            "        \"mail\": \"collinsdonna@gmail.com\",\n",
            "        \"name\": \"James Reyes\",\n",
            "        \"sex\": \"F\",\n",
            "        \"username\": \"rothmichael\"\n",
            "      },\n",
            "      \"timestamp\": \"2024-04-30 00:07:07.346782\"\n",
            "    },\n",
            "    {\n",
            "      \"index\": 11,\n",
            "      \"previous_hash\": \"d6dd65d297c58863e3730dca3a46b91311db39073a8c9bc4a9c4279c06b5d581\",\n",
            "      \"proof\": 72474,\n",
            "      \"record\": {\n",
            "        \"address\": \"530 Bradley Harbors\\nNew Anthony, NV 86476\",\n",
            "        \"birthdate\": \"1994-12-11 00:27:42\",\n",
            "        \"mail\": \"hooverkristen@gmail.com\",\n",
            "        \"name\": \"Candace Howell\",\n",
            "        \"sex\": \"M\",\n",
            "        \"username\": \"krystaldavidson\"\n",
            "      },\n",
            "      \"timestamp\": \"2024-04-30 00:07:07.657899\"\n",
            "    },\n",
            "    {\n",
            "      \"index\": 12,\n",
            "      \"previous_hash\": \"4e0f9d32760958d65f4588f2c210726d8139571122cb763fd96cf8055e1071e9\",\n",
            "      \"proof\": 126616,\n",
            "      \"record\": {\n",
            "        \"address\": \"91712 Lee Causeway Suite 319\\nNew Kelsey, NJ 66549\",\n",
            "        \"birthdate\": \"2005-02-24 15:39:26\",\n",
            "        \"mail\": \"crystal19@mst.edu\",\n",
            "        \"name\": \"James Adams\",\n",
            "        \"sex\": \"F\",\n",
            "        \"username\": \"christopherwilliams\"\n",
            "      },\n",
            "      \"timestamp\": \"2024-04-30 00:07:08.083540\"\n",
            "    },\n",
            "    {\n",
            "      \"index\": 13,\n",
            "      \"previous_hash\": \"1b90988a87f69649bcf14370963cd03d60493812d6ffd973c80bf5d641cf04ce\",\n",
            "      \"proof\": 64161,\n",
            "      \"record\": {\n",
            "        \"address\": \"0598 Ball Landing Apt. 679\\nKimland, SC 46940\",\n",
            "        \"birthdate\": \"1984-02-11 10:39:06\",\n",
            "        \"mail\": \"gary95@gmail.com\",\n",
            "        \"name\": \"George Banks\",\n",
            "        \"sex\": \"M\",\n",
            "        \"username\": \"theresa22\"\n",
            "      },\n",
            "      \"timestamp\": \"2024-04-30 00:07:08.242635\"\n",
            "    },\n",
            "    {\n",
            "      \"index\": 14,\n",
            "      \"previous_hash\": \"074cbbfc3a79128cf61ef70f09963482bc43b97f1e44e02d405796d02c486e9e\",\n",
            "      \"proof\": 144125,\n",
            "      \"record\": {\n",
            "        \"address\": \"674 Williams Locks Apt. 616\\nBrittanychester, MS 92099\",\n",
            "        \"birthdate\": \"2012-08-06 08:58:38\",\n",
            "        \"mail\": \"michael20@mst.edu\",\n",
            "        \"name\": \"Rebecca Nguyen\",\n",
            "        \"sex\": \"F\",\n",
            "        \"username\": \"hicksjose\"\n",
            "      },\n",
            "      \"timestamp\": \"2024-04-30 00:07:08.574558\"\n",
            "    },\n",
            "    {\n",
            "      \"index\": 15,\n",
            "      \"previous_hash\": \"fc875902d047a7e94b259d991adaf87975a69458b3e9e3b1376e1e70173e700b\",\n",
            "      \"proof\": 2492,\n",
            "      \"record\": {\n",
            "        \"address\": \"PSC 9941, Box 4171\\nAPO AE 74035\",\n",
            "        \"birthdate\": \"1979-06-18 07:41:59\",\n",
            "        \"mail\": \"duane17@mst.edu\",\n",
            "        \"name\": \"Pamela Santos\",\n",
            "        \"sex\": \"F\",\n",
            "        \"username\": \"udavis\"\n",
            "      },\n",
            "      \"timestamp\": \"2024-04-30 00:07:08.621681\"\n",
            "    },\n",
            "    {\n",
            "      \"index\": 16,\n",
            "      \"previous_hash\": \"fc623750322af0b950753826113b6448fd5ebfa4cc6aef0471f4551b2705b616\",\n",
            "      \"proof\": 22592,\n",
            "      \"record\": {\n",
            "        \"address\": \"70633 Lang Village\\nMichellefort, IN 53411\",\n",
            "        \"birthdate\": \"1981-11-29 21:28:40\",\n",
            "        \"mail\": \"donald51@mst.edu\",\n",
            "        \"name\": \"Seth Stevens\",\n",
            "        \"sex\": \"M\",\n",
            "        \"username\": \"cardenasmichele\"\n",
            "      },\n",
            "      \"timestamp\": \"2024-04-30 00:07:08.695660\"\n",
            "    },\n",
            "    {\n",
            "      \"index\": 17,\n",
            "      \"previous_hash\": \"a20dcbc80fe8e74d3613f9218aeeaf8ad919c083c84a639abfc148b7310e3f3e\",\n",
            "      \"proof\": 107780,\n",
            "      \"record\": {\n",
            "        \"address\": \"17869 Cheryl Road Suite 521\\nHilltown, WA 88134\",\n",
            "        \"birthdate\": \"2007-05-17 10:21:15\",\n",
            "        \"mail\": \"stephanie80@gmail.com\",\n",
            "        \"name\": \"Kevin Williams\",\n",
            "        \"sex\": \"F\",\n",
            "        \"username\": \"natashafields\"\n",
            "      },\n",
            "      \"timestamp\": \"2024-04-30 00:07:08.948419\"\n",
            "    },\n",
            "    {\n",
            "      \"index\": 18,\n",
            "      \"previous_hash\": \"84afffcb1462bdc756c8d8ac0633f7b3c3689cee63ce7a1a26b1a20d08c84fe0\",\n",
            "      \"proof\": 47346,\n",
            "      \"record\": {\n",
            "        \"address\": \"352 Christopher Estates Apt. 450\\nJosephmouth, HI 74887\",\n",
            "        \"birthdate\": \"1982-02-27 12:03:50\",\n",
            "        \"mail\": \"adamjackson@mst.edu\",\n",
            "        \"name\": \"Kathleen Webb\",\n",
            "        \"sex\": \"F\",\n",
            "        \"username\": \"scottweber\"\n",
            "      },\n",
            "      \"timestamp\": \"2024-04-30 00:07:09.075907\"\n",
            "    },\n",
            "    {\n",
            "      \"index\": 19,\n",
            "      \"previous_hash\": \"0c7525c8206a84df197231e1232de7e9e3a346b48e8a668af89efb3e68b57b7e\",\n",
            "      \"proof\": 46891,\n",
            "      \"record\": {\n",
            "        \"address\": \"329 Stephen Club Suite 294\\nJasminebury, NJ 72309\",\n",
            "        \"birthdate\": \"2007-03-10 07:38:45\",\n",
            "        \"mail\": \"sara50@mst.edu\",\n",
            "        \"name\": \"Robert Duncan\",\n",
            "        \"sex\": \"M\",\n",
            "        \"username\": \"christinepatton\"\n",
            "      },\n",
            "      \"timestamp\": \"2024-04-30 00:07:09.203242\"\n",
            "    },\n",
            "    {\n",
            "      \"index\": 20,\n",
            "      \"previous_hash\": \"2df3e596b2a2b6ba6583d88b476f1b6663191afd5661261ad6fd7fc6288c3732\",\n",
            "      \"proof\": 91004,\n",
            "      \"record\": {\n",
            "        \"address\": \"7032 Fernandez Mountain\\nNew Paigeberg, CT 06319\",\n",
            "        \"birthdate\": \"2022-12-23 20:45:23\",\n",
            "        \"mail\": \"morawilliam@mst.edu\",\n",
            "        \"name\": \"Chad Odonnell\",\n",
            "        \"sex\": \"F\",\n",
            "        \"username\": \"travis08\"\n",
            "      },\n",
            "      \"timestamp\": \"2024-04-30 00:07:09.414853\"\n",
            "    },\n",
            "    {\n",
            "      \"index\": 21,\n",
            "      \"previous_hash\": \"7e91b3bbd570001507a371aaba7c65b965418d913d5d16f06a4fc907cb86a685\",\n",
            "      \"proof\": 200907,\n",
            "      \"record\": {\n",
            "        \"address\": \"294 Heath Expressway\\nPort Darleneberg, NE 37896\",\n",
            "        \"birthdate\": \"1985-03-25 17:56:19\",\n",
            "        \"mail\": \"daniellerobinson@gmail.com\",\n",
            "        \"name\": \"Dustin Ellis\",\n",
            "        \"sex\": \"M\",\n",
            "        \"username\": \"tyler06\"\n",
            "      },\n",
            "      \"timestamp\": \"2024-04-30 00:07:09.876987\"\n",
            "    },\n",
            "    {\n",
            "      \"index\": 22,\n",
            "      \"previous_hash\": \"a68ec8b51166124413d55de28917e3981c405ab70d6b0bb6a3a9a33d6ea2337f\",\n",
            "      \"proof\": 133432,\n",
            "      \"record\": {\n",
            "        \"address\": \"31124 Moore Crest\\nTroymouth, GU 43227\",\n",
            "        \"birthdate\": \"2003-12-10 19:04:40\",\n",
            "        \"mail\": \"brandy09@gmail.com\",\n",
            "        \"name\": \"Lindsey Meyer\",\n",
            "        \"sex\": \"M\",\n",
            "        \"username\": \"william46\"\n",
            "      },\n",
            "      \"timestamp\": \"2024-04-30 00:07:10.175108\"\n",
            "    },\n",
            "    {\n",
            "      \"index\": 23,\n",
            "      \"previous_hash\": \"4087e12ad1788349db94333a610861a548ae75acdea3bb125cf9bb6b268200b8\",\n",
            "      \"proof\": 43978,\n",
            "      \"record\": {\n",
            "        \"address\": \"8595 Gina Shore Suite 473\\nSullivanville, WA 27052\",\n",
            "        \"birthdate\": \"1999-02-16 15:53:55\",\n",
            "        \"mail\": \"gary67@gmail.com\",\n",
            "        \"name\": \"Patricia Wright\",\n",
            "        \"sex\": \"M\",\n",
            "        \"username\": \"matthew20\"\n",
            "      },\n",
            "      \"timestamp\": \"2024-04-30 00:07:10.302210\"\n",
            "    },\n",
            "    {\n",
            "      \"index\": 24,\n",
            "      \"previous_hash\": \"8b6d2f0011fa889a4f874e80d5f57f5ef42c831c5be575f0bf2dfab133f0e6f3\",\n",
            "      \"proof\": 174790,\n",
            "      \"record\": {\n",
            "        \"address\": \"0769 Brown Springs\\nAmandabury, NJ 06554\",\n",
            "        \"birthdate\": \"2015-11-20 12:14:11\",\n",
            "        \"mail\": \"terri72@mst.edu\",\n",
            "        \"name\": \"Albert Hudson\",\n",
            "        \"sex\": \"F\",\n",
            "        \"username\": \"jasonclay\"\n",
            "      },\n",
            "      \"timestamp\": \"2024-04-30 00:07:10.708055\"\n",
            "    },\n",
            "    {\n",
            "      \"index\": 25,\n",
            "      \"previous_hash\": \"98159daddbe8e7ac8dbf205998a323c2240273f61c463b79ade7d5e0daa57852\",\n",
            "      \"proof\": 56224,\n",
            "      \"record\": {\n",
            "        \"address\": \"3202 Owens Land\\nNorth David, FL 36545\",\n",
            "        \"birthdate\": \"2009-03-03 12:51:51\",\n",
            "        \"mail\": \"manningkayla@gmail.com\",\n",
            "        \"name\": \"Monica Blanchard\",\n",
            "        \"sex\": \"M\",\n",
            "        \"username\": \"sfletcher\"\n",
            "      },\n",
            "      \"timestamp\": \"2024-04-30 00:07:10.993995\"\n",
            "    },\n",
            "    {\n",
            "      \"index\": 26,\n",
            "      \"previous_hash\": \"eaafbf6deb3b2ff8e7dbff5e0919e75365dd64b0c85f6cb4253f9cf952d93448\",\n",
            "      \"proof\": 17995,\n",
            "      \"record\": {\n",
            "        \"address\": \"7777 King Estate Suite 076\\nNew Amandachester, MH 66761\",\n",
            "        \"birthdate\": \"2015-01-19 01:53:29\",\n",
            "        \"mail\": \"bernard55@mst.edu\",\n",
            "        \"name\": \"Jennifer Young\",\n",
            "        \"sex\": \"M\",\n",
            "        \"username\": \"william99\"\n",
            "      },\n",
            "      \"timestamp\": \"2024-04-30 00:07:11.105212\"\n",
            "    },\n",
            "    {\n",
            "      \"index\": 27,\n",
            "      \"previous_hash\": \"4e215404b1d94ab453d9a1f8df7e2493191b58e321f50afb36385cf3c7fcf473\",\n",
            "      \"proof\": 41769,\n",
            "      \"record\": {\n",
            "        \"address\": \"2680 Russell Drives\\nEast Brandy, AK 11147\",\n",
            "        \"birthdate\": \"2010-08-02 19:21:04\",\n",
            "        \"mail\": \"uesparza@mst.edu\",\n",
            "        \"name\": \"Lydia Walter\",\n",
            "        \"sex\": \"M\",\n",
            "        \"username\": \"francisco50\"\n",
            "      },\n",
            "      \"timestamp\": \"2024-04-30 00:07:11.305035\"\n",
            "    },\n",
            "    {\n",
            "      \"index\": 28,\n",
            "      \"previous_hash\": \"6da890f335f99104630e5d1f1c75b13891eae243298d931e853ceaaca369423a\",\n",
            "      \"proof\": 37872,\n",
            "      \"record\": {\n",
            "        \"address\": \"661 Thomas Station Apt. 504\\nLake Marissaview, UT 65565\",\n",
            "        \"birthdate\": \"2000-03-06 19:32:18\",\n",
            "        \"mail\": \"xmejia@mst.edu\",\n",
            "        \"name\": \"Deanna Beard\",\n",
            "        \"sex\": \"F\",\n",
            "        \"username\": \"wcase\"\n",
            "      },\n",
            "      \"timestamp\": \"2024-04-30 00:07:11.491075\"\n",
            "    },\n",
            "    {\n",
            "      \"index\": 29,\n",
            "      \"previous_hash\": \"80dee621590b7b957c7e15041af2623c22d0e559667e828abd2dcd30d7dbc26e\",\n",
            "      \"proof\": 56560,\n",
            "      \"record\": {\n",
            "        \"address\": \"6118 Edwards Summit\\nWest Brandi, MT 48074\",\n",
            "        \"birthdate\": \"2005-06-01 14:27:59\",\n",
            "        \"mail\": \"vargaserika@mst.edu\",\n",
            "        \"name\": \"Xavier Stewart\",\n",
            "        \"sex\": \"F\",\n",
            "        \"username\": \"riceandrea\"\n",
            "      },\n",
            "      \"timestamp\": \"2024-04-30 00:07:11.688782\"\n",
            "    },\n",
            "    {\n",
            "      \"index\": 30,\n",
            "      \"previous_hash\": \"2498fdb958dd42046990b7d78fa92a11f187c9acaeed34d390c4d685a6184b5f\",\n",
            "      \"proof\": 93290,\n",
            "      \"record\": {\n",
            "        \"address\": \"170 Cooper Mission\\nPort Markshire, PR 08322\",\n",
            "        \"birthdate\": \"2002-03-30 02:26:15\",\n",
            "        \"mail\": \"brandtjulie@gmail.com\",\n",
            "        \"name\": \"Susan Anthony\",\n",
            "        \"sex\": \"F\",\n",
            "        \"username\": \"robertkerr\"\n",
            "      },\n",
            "      \"timestamp\": \"2024-04-30 00:07:12.078306\"\n",
            "    }\n",
            "  ],\n",
            "  \"length\": 31\n",
            "}\n",
            "(0, {'index': 0, 'timestamp': '2024-04-30 00:07:05.799924', 'proof': 1, 'previous_hash': '0', 'record': {'username': 'williamnewman', 'name': 'Michael Adkins', 'sex': 'M', 'address': '5751 Mejia Walks Apt. 019\\nSouth Staciefurt, MO 77029', 'mail': 'nwoodard@gmail.com', 'birthdate': '2009-06-03 06:45:46'}})\n",
            "(1, {'index': 1, 'timestamp': '2024-04-30 00:07:05.871674', 'proof': 533, 'previous_hash': 'b5232e8d64d14eac4f8fe91031858be45b2c12a8b8f8100be7c32c3e324ea80b', 'record': {'username': 'mortonelizabeth', 'name': 'Steven Bradley', 'sex': 'F', 'address': '3951 Kelly Pike Suite 467\\nMartinberg, ID 55766', 'mail': 'cpugh@mst.edu', 'birthdate': '1981-10-02 12:08:28'}})\n",
            "(2, {'index': 2, 'timestamp': '2024-04-30 00:07:06.086911', 'proof': 45293, 'previous_hash': 'dc90e02e6472db97182c1d18787439aa28012f5a68db65effa87930a9b55d1e2', 'record': {'username': 'brenda46', 'name': 'Rachel Simmons', 'sex': 'M', 'address': '80968 Jacob Wall\\nSouth Samuelmouth, NV 56607', 'mail': 'curtisheather@gmail.com', 'birthdate': '2022-06-10 21:06:20'}})\n",
            "(3, {'index': 3, 'timestamp': '2024-04-30 00:07:06.207342', 'proof': 21391, 'previous_hash': '9811ec7be447e52ec266e02d466506363375c36f61b414a317c7a06048de38d4', 'record': {'username': 'jeremybishop', 'name': 'Anthony Cross', 'sex': 'M', 'address': '989 Gallagher Landing Apt. 528\\nNorth Glendaborough, OH 32517', 'mail': 'thansen@mst.edu', 'birthdate': '2008-02-22 16:44:06'}})\n",
            "(4, {'index': 4, 'timestamp': '2024-04-30 00:07:06.277266', 'proof': 8018, 'previous_hash': '1a2d358efb09c6097a41c16b9f3b10620b434c4878e1a5f7c655d8bd6d5fb275', 'record': {'username': 'rachel85', 'name': 'Ashley Cole', 'sex': 'M', 'address': '38215 Megan Circle\\nLake Antonio, UT 53466', 'mail': 'clarksarah@mst.edu', 'birthdate': '2015-01-02 00:41:33'}})\n",
            "(5, {'index': 5, 'timestamp': '2024-04-30 00:07:06.530066', 'proof': 48191, 'previous_hash': '0bb566d6bcd62aed7d2325c475f7390f7ae4bf44cda3a1b5f58c600a88b9bb88', 'record': {'username': 'bwu', 'name': 'Michael Buckley', 'sex': 'M', 'address': '566 Grant Wall\\nMackborough, NY 62977', 'mail': 'taylorchristopher@mst.edu', 'birthdate': '2000-12-11 10:27:46'}})\n",
            "(6, {'index': 6, 'timestamp': '2024-04-30 00:07:06.667225', 'proof': 19865, 'previous_hash': '435641801ac73c9149eac27ffe764ef147113b67da47da3a88de60defe9c1def', 'record': {'username': 'cramos', 'name': 'Mary Floyd', 'sex': 'F', 'address': '285 Todd Loaf\\nAllisonmouth, MD 83076', 'mail': 'coryadams@mst.edu', 'birthdate': '1991-09-03 18:52:01'}})\n",
            "(7, {'index': 7, 'timestamp': '2024-04-30 00:07:07.072103', 'proof': 95063, 'previous_hash': 'c0faab404cbbc5fa9174243acdf78703da2a06f4f710a8b443cf143612faf9c0', 'record': {'username': 'chelsea59', 'name': 'John Allison', 'sex': 'M', 'address': '030 Heather Lakes Suite 751\\nNorth Andrewland, LA 91800', 'mail': 'christine18@mst.edu', 'birthdate': '1998-02-16 08:28:04'}})\n",
            "(8, {'index': 8, 'timestamp': '2024-04-30 00:07:07.174221', 'proof': 15457, 'previous_hash': 'a43e02d5eb2f8fb6b1ffdab56c4637ef5f61242ab411e140de3c39209b7f74e0', 'record': {'username': 'martinezbrenda', 'name': 'Scott Anderson', 'sex': 'F', 'address': '68675 Mccarty Extensions\\nEdwardport, LA 09538', 'mail': 'wdavis@gmail.com', 'birthdate': '1998-01-14 18:52:33'}})\n",
            "(9, {'index': 9, 'timestamp': '2024-04-30 00:07:07.273169', 'proof': 15479, 'previous_hash': 'daa699efa3c6283e3798859a58a915c63e8320056566655266f731de43f61207', 'record': {'username': 'wolfekathleen', 'name': 'Jennifer Ferguson', 'sex': 'M', 'address': '729 Parrish Manor\\nYangborough, MN 22104', 'mail': 'trandavid@gmail.com', 'birthdate': '2008-01-04 16:45:20'}})\n",
            "(10, {'index': 10, 'timestamp': '2024-04-30 00:07:07.346782', 'proof': 7889, 'previous_hash': 'c34789c939810917c04fb0be95b97276ed8c341c531817f3ed019f76ca8d6d1f', 'record': {'username': 'rothmichael', 'name': 'James Reyes', 'sex': 'F', 'address': '959 Williams Row\\nLake Michaela, MT 05505', 'mail': 'collinsdonna@gmail.com', 'birthdate': '1996-09-29 04:32:03'}})\n",
            "(11, {'index': 11, 'timestamp': '2024-04-30 00:07:07.657899', 'proof': 72474, 'previous_hash': 'd6dd65d297c58863e3730dca3a46b91311db39073a8c9bc4a9c4279c06b5d581', 'record': {'username': 'krystaldavidson', 'name': 'Candace Howell', 'sex': 'M', 'address': '530 Bradley Harbors\\nNew Anthony, NV 86476', 'mail': 'hooverkristen@gmail.com', 'birthdate': '1994-12-11 00:27:42'}})\n",
            "(12, {'index': 12, 'timestamp': '2024-04-30 00:07:08.083540', 'proof': 126616, 'previous_hash': '4e0f9d32760958d65f4588f2c210726d8139571122cb763fd96cf8055e1071e9', 'record': {'username': 'christopherwilliams', 'name': 'James Adams', 'sex': 'F', 'address': '91712 Lee Causeway Suite 319\\nNew Kelsey, NJ 66549', 'mail': 'crystal19@mst.edu', 'birthdate': '2005-02-24 15:39:26'}})\n",
            "(13, {'index': 13, 'timestamp': '2024-04-30 00:07:08.242635', 'proof': 64161, 'previous_hash': '1b90988a87f69649bcf14370963cd03d60493812d6ffd973c80bf5d641cf04ce', 'record': {'username': 'theresa22', 'name': 'George Banks', 'sex': 'M', 'address': '0598 Ball Landing Apt. 679\\nKimland, SC 46940', 'mail': 'gary95@gmail.com', 'birthdate': '1984-02-11 10:39:06'}})\n",
            "(14, {'index': 14, 'timestamp': '2024-04-30 00:07:08.574558', 'proof': 144125, 'previous_hash': '074cbbfc3a79128cf61ef70f09963482bc43b97f1e44e02d405796d02c486e9e', 'record': {'username': 'hicksjose', 'name': 'Rebecca Nguyen', 'sex': 'F', 'address': '674 Williams Locks Apt. 616\\nBrittanychester, MS 92099', 'mail': 'michael20@mst.edu', 'birthdate': '2012-08-06 08:58:38'}})\n",
            "(15, {'index': 15, 'timestamp': '2024-04-30 00:07:08.621681', 'proof': 2492, 'previous_hash': 'fc875902d047a7e94b259d991adaf87975a69458b3e9e3b1376e1e70173e700b', 'record': {'username': 'udavis', 'name': 'Pamela Santos', 'sex': 'F', 'address': 'PSC 9941, Box 4171\\nAPO AE 74035', 'mail': 'duane17@mst.edu', 'birthdate': '1979-06-18 07:41:59'}})\n",
            "(16, {'index': 16, 'timestamp': '2024-04-30 00:07:08.695660', 'proof': 22592, 'previous_hash': 'fc623750322af0b950753826113b6448fd5ebfa4cc6aef0471f4551b2705b616', 'record': {'username': 'cardenasmichele', 'name': 'Seth Stevens', 'sex': 'M', 'address': '70633 Lang Village\\nMichellefort, IN 53411', 'mail': 'donald51@mst.edu', 'birthdate': '1981-11-29 21:28:40'}})\n",
            "(17, {'index': 17, 'timestamp': '2024-04-30 00:07:08.948419', 'proof': 107780, 'previous_hash': 'a20dcbc80fe8e74d3613f9218aeeaf8ad919c083c84a639abfc148b7310e3f3e', 'record': {'username': 'natashafields', 'name': 'Kevin Williams', 'sex': 'F', 'address': '17869 Cheryl Road Suite 521\\nHilltown, WA 88134', 'mail': 'stephanie80@gmail.com', 'birthdate': '2007-05-17 10:21:15'}})\n",
            "(18, {'index': 18, 'timestamp': '2024-04-30 00:07:09.075907', 'proof': 47346, 'previous_hash': '84afffcb1462bdc756c8d8ac0633f7b3c3689cee63ce7a1a26b1a20d08c84fe0', 'record': {'username': 'scottweber', 'name': 'Kathleen Webb', 'sex': 'F', 'address': '352 Christopher Estates Apt. 450\\nJosephmouth, HI 74887', 'mail': 'adamjackson@mst.edu', 'birthdate': '1982-02-27 12:03:50'}})\n",
            "(19, {'index': 19, 'timestamp': '2024-04-30 00:07:09.203242', 'proof': 46891, 'previous_hash': '0c7525c8206a84df197231e1232de7e9e3a346b48e8a668af89efb3e68b57b7e', 'record': {'username': 'christinepatton', 'name': 'Robert Duncan', 'sex': 'M', 'address': '329 Stephen Club Suite 294\\nJasminebury, NJ 72309', 'mail': 'sara50@mst.edu', 'birthdate': '2007-03-10 07:38:45'}})\n",
            "(20, {'index': 20, 'timestamp': '2024-04-30 00:07:09.414853', 'proof': 91004, 'previous_hash': '2df3e596b2a2b6ba6583d88b476f1b6663191afd5661261ad6fd7fc6288c3732', 'record': {'username': 'travis08', 'name': 'Chad Odonnell', 'sex': 'F', 'address': '7032 Fernandez Mountain\\nNew Paigeberg, CT 06319', 'mail': 'morawilliam@mst.edu', 'birthdate': '2022-12-23 20:45:23'}})\n",
            "(21, {'index': 21, 'timestamp': '2024-04-30 00:07:09.876987', 'proof': 200907, 'previous_hash': '7e91b3bbd570001507a371aaba7c65b965418d913d5d16f06a4fc907cb86a685', 'record': {'username': 'tyler06', 'name': 'Dustin Ellis', 'sex': 'M', 'address': '294 Heath Expressway\\nPort Darleneberg, NE 37896', 'mail': 'daniellerobinson@gmail.com', 'birthdate': '1985-03-25 17:56:19'}})\n",
            "(22, {'index': 22, 'timestamp': '2024-04-30 00:07:10.175108', 'proof': 133432, 'previous_hash': 'a68ec8b51166124413d55de28917e3981c405ab70d6b0bb6a3a9a33d6ea2337f', 'record': {'username': 'william46', 'name': 'Lindsey Meyer', 'sex': 'M', 'address': '31124 Moore Crest\\nTroymouth, GU 43227', 'mail': 'brandy09@gmail.com', 'birthdate': '2003-12-10 19:04:40'}})\n",
            "(23, {'index': 23, 'timestamp': '2024-04-30 00:07:10.302210', 'proof': 43978, 'previous_hash': '4087e12ad1788349db94333a610861a548ae75acdea3bb125cf9bb6b268200b8', 'record': {'username': 'matthew20', 'name': 'Patricia Wright', 'sex': 'M', 'address': '8595 Gina Shore Suite 473\\nSullivanville, WA 27052', 'mail': 'gary67@gmail.com', 'birthdate': '1999-02-16 15:53:55'}})\n",
            "(24, {'index': 24, 'timestamp': '2024-04-30 00:07:10.708055', 'proof': 174790, 'previous_hash': '8b6d2f0011fa889a4f874e80d5f57f5ef42c831c5be575f0bf2dfab133f0e6f3', 'record': {'username': 'jasonclay', 'name': 'Albert Hudson', 'sex': 'F', 'address': '0769 Brown Springs\\nAmandabury, NJ 06554', 'mail': 'terri72@mst.edu', 'birthdate': '2015-11-20 12:14:11'}})\n",
            "(25, {'index': 25, 'timestamp': '2024-04-30 00:07:10.993995', 'proof': 56224, 'previous_hash': '98159daddbe8e7ac8dbf205998a323c2240273f61c463b79ade7d5e0daa57852', 'record': {'username': 'sfletcher', 'name': 'Monica Blanchard', 'sex': 'M', 'address': '3202 Owens Land\\nNorth David, FL 36545', 'mail': 'manningkayla@gmail.com', 'birthdate': '2009-03-03 12:51:51'}})\n",
            "(26, {'index': 26, 'timestamp': '2024-04-30 00:07:11.105212', 'proof': 17995, 'previous_hash': 'eaafbf6deb3b2ff8e7dbff5e0919e75365dd64b0c85f6cb4253f9cf952d93448', 'record': {'username': 'william99', 'name': 'Jennifer Young', 'sex': 'M', 'address': '7777 King Estate Suite 076\\nNew Amandachester, MH 66761', 'mail': 'bernard55@mst.edu', 'birthdate': '2015-01-19 01:53:29'}})\n",
            "(27, {'index': 27, 'timestamp': '2024-04-30 00:07:11.305035', 'proof': 41769, 'previous_hash': '4e215404b1d94ab453d9a1f8df7e2493191b58e321f50afb36385cf3c7fcf473', 'record': {'username': 'francisco50', 'name': 'Lydia Walter', 'sex': 'M', 'address': '2680 Russell Drives\\nEast Brandy, AK 11147', 'mail': 'uesparza@mst.edu', 'birthdate': '2010-08-02 19:21:04'}})\n",
            "(28, {'index': 28, 'timestamp': '2024-04-30 00:07:11.491075', 'proof': 37872, 'previous_hash': '6da890f335f99104630e5d1f1c75b13891eae243298d931e853ceaaca369423a', 'record': {'username': 'wcase', 'name': 'Deanna Beard', 'sex': 'F', 'address': '661 Thomas Station Apt. 504\\nLake Marissaview, UT 65565', 'mail': 'xmejia@mst.edu', 'birthdate': '2000-03-06 19:32:18'}})\n",
            "(29, {'index': 29, 'timestamp': '2024-04-30 00:07:11.688782', 'proof': 56560, 'previous_hash': '80dee621590b7b957c7e15041af2623c22d0e559667e828abd2dcd30d7dbc26e', 'record': {'username': 'riceandrea', 'name': 'Xavier Stewart', 'sex': 'F', 'address': '6118 Edwards Summit\\nWest Brandi, MT 48074', 'mail': 'vargaserika@mst.edu', 'birthdate': '2005-06-01 14:27:59'}})\n",
            "(30, {'index': 30, 'timestamp': '2024-04-30 00:07:12.078306', 'proof': 93290, 'previous_hash': '2498fdb958dd42046990b7d78fa92a11f187c9acaeed34d390c4d685a6184b5f', 'record': {'username': 'robertkerr', 'name': 'Susan Anthony', 'sex': 'F', 'address': '170 Cooper Mission\\nPort Markshire, PR 08322', 'mail': 'brandtjulie@gmail.com', 'birthdate': '2002-03-30 02:26:15'}})\n",
            "\n",
            "Names of people with gmail.com email:\n",
            "Michael Adkins\n",
            "Rachel Simmons\n",
            "Scott Anderson\n",
            "Jennifer Ferguson\n",
            "James Reyes\n",
            "Candace Howell\n",
            "George Banks\n",
            "Kevin Williams\n",
            "Dustin Ellis\n",
            "Lindsey Meyer\n",
            "Patricia Wright\n",
            "Monica Blanchard\n",
            "Susan Anthony\n",
            "\n",
            "Usernames of people born on or after 2000-01-01:\n",
            "williamnewman\n",
            "brenda46\n",
            "jeremybishop\n",
            "rachel85\n",
            "bwu\n",
            "wolfekathleen\n",
            "christopherwilliams\n",
            "hicksjose\n",
            "natashafields\n",
            "christinepatton\n",
            "travis08\n",
            "william46\n",
            "jasonclay\n",
            "sfletcher\n",
            "william99\n",
            "francisco50\n",
            "wcase\n",
            "riceandrea\n",
            "robertkerr\n",
            "\n",
            "Validation result after mining 30 blocks: {'message': 'Chain is valid.', 'valid': True}\n",
            "\n",
            "Validation result after altering the 3rd block's record: {'message': 'Chain is not valid!', 'valid': False}\n"
          ]
        }
      ]
    },
    {
      "cell_type": "code",
      "source": [
        "!apt install net-tools\n",
        "!netstat -tulnp | grep :5000"
      ],
      "metadata": {
        "id": "zP6EpzIR6j6w",
        "colab": {
          "base_uri": "https://localhost:8080/"
        },
        "outputId": "ba7dda22-5a4f-4b62-c30a-4d7d516fd9d1"
      },
      "execution_count": 7,
      "outputs": [
        {
          "output_type": "stream",
          "name": "stdout",
          "text": [
            "Reading package lists... Done\n",
            "Building dependency tree... Done\n",
            "Reading state information... Done\n",
            "The following NEW packages will be installed:\n",
            "  net-tools\n",
            "0 upgraded, 1 newly installed, 0 to remove and 45 not upgraded.\n",
            "Need to get 204 kB of archives.\n",
            "After this operation, 819 kB of additional disk space will be used.\n",
            "Get:1 http://archive.ubuntu.com/ubuntu jammy/main amd64 net-tools amd64 1.60+git20181103.0eebece-1ubuntu5 [204 kB]\n",
            "Fetched 204 kB in 1s (328 kB/s)\n",
            "Selecting previously unselected package net-tools.\n",
            "(Reading database ... 121752 files and directories currently installed.)\n",
            "Preparing to unpack .../net-tools_1.60+git20181103.0eebece-1ubuntu5_amd64.deb ...\n",
            "Unpacking net-tools (1.60+git20181103.0eebece-1ubuntu5) ...\n",
            "Setting up net-tools (1.60+git20181103.0eebece-1ubuntu5) ...\n",
            "Processing triggers for man-db (2.10.2-1) ...\n",
            "tcp        0      0 127.0.0.1:5000          0.0.0.0:*               LISTEN      28792/python3       \n"
          ]
        }
      ]
    },
    {
      "cell_type": "code",
      "source": [
        "!kill 703"
      ],
      "metadata": {
        "id": "ZxOHsvn36lII",
        "colab": {
          "base_uri": "https://localhost:8080/"
        },
        "outputId": "6c3fe786-7d85-49a3-ee55-ccd14c31f90d"
      },
      "execution_count": 8,
      "outputs": [
        {
          "output_type": "stream",
          "name": "stdout",
          "text": [
            "/bin/bash: line 1: kill: (703) - No such process\n"
          ]
        }
      ]
    },
    {
      "cell_type": "code",
      "source": [
        "%%html\n",
        "<h1 style=\"color:orange;\">END OF PROJECT</h1>"
      ],
      "metadata": {
        "colab": {
          "base_uri": "https://localhost:8080/",
          "height": 74
        },
        "id": "TCkOtDWLVtvY",
        "outputId": "d0855d9d-efe2-4caa-fa05-7d3f24f14dbb"
      },
      "execution_count": 11,
      "outputs": [
        {
          "output_type": "display_data",
          "data": {
            "text/plain": [
              "<IPython.core.display.HTML object>"
            ],
            "text/html": [
              "<h1 style=\"color:orange;\">END OF PROJECT</h1>\n"
            ]
          },
          "metadata": {}
        }
      ]
    }
  ]
}