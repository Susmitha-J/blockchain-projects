{
  "nbformat": 4,
  "nbformat_minor": 0,
  "metadata": {
    "colab": {
      "provenance": []
    },
    "kernelspec": {
      "name": "python3",
      "display_name": "Python 3"
    },
    "language_info": {
      "name": "python"
    }
  },
  "cells": [
    {
      "cell_type": "code",
      "source": [
        "%%html\n",
        "<h1 style=\"color:orange;\">INTRO TO BLOCK CHAIN ENGINEERING - PROJECT-10 Simple Ledger Web App - 12613141</h1>"
      ],
      "metadata": {
        "colab": {
          "base_uri": "https://localhost:8080/",
          "height": 74
        },
        "id": "Tn5lCLa-W-h3",
        "outputId": "4b0a0556-3d58-494a-ce3f-09c0bc54a677"
      },
      "execution_count": 10,
      "outputs": [
        {
          "output_type": "display_data",
          "data": {
            "text/plain": [
              "<IPython.core.display.HTML object>"
            ],
            "text/html": [
              "<h1 style=\"color:orange;\">INTRO TO BLOCK CHAIN ENGINEERING - PROJECT-10 Simple Ledger Web App - 12613141</h1>\n"
            ]
          },
          "metadata": {}
        }
      ]
    },
    {
      "cell_type": "code",
      "execution_count": 8,
      "metadata": {
        "colab": {
          "base_uri": "https://localhost:8080/"
        },
        "id": "S_HNLYF-2xZn",
        "outputId": "9d8b79f3-7e4b-4797-e6b9-22e272442a61"
      },
      "outputs": [
        {
          "output_type": "stream",
          "name": "stdout",
          "text": [
            "Requirement already satisfied: flask-ngrok in /usr/local/lib/python3.10/dist-packages (0.0.25)\n",
            "Requirement already satisfied: Flask>=0.8 in /usr/local/lib/python3.10/dist-packages (from flask-ngrok) (2.2.5)\n",
            "Requirement already satisfied: requests in /usr/local/lib/python3.10/dist-packages (from flask-ngrok) (2.31.0)\n",
            "Requirement already satisfied: Werkzeug>=2.2.2 in /usr/local/lib/python3.10/dist-packages (from Flask>=0.8->flask-ngrok) (3.0.2)\n",
            "Requirement already satisfied: Jinja2>=3.0 in /usr/local/lib/python3.10/dist-packages (from Flask>=0.8->flask-ngrok) (3.1.3)\n",
            "Requirement already satisfied: itsdangerous>=2.0 in /usr/local/lib/python3.10/dist-packages (from Flask>=0.8->flask-ngrok) (2.1.2)\n",
            "Requirement already satisfied: click>=8.0 in /usr/local/lib/python3.10/dist-packages (from Flask>=0.8->flask-ngrok) (8.1.7)\n",
            "Requirement already satisfied: charset-normalizer<4,>=2 in /usr/local/lib/python3.10/dist-packages (from requests->flask-ngrok) (3.3.2)\n",
            "Requirement already satisfied: idna<4,>=2.5 in /usr/local/lib/python3.10/dist-packages (from requests->flask-ngrok) (3.6)\n",
            "Requirement already satisfied: urllib3<3,>=1.21.1 in /usr/local/lib/python3.10/dist-packages (from requests->flask-ngrok) (2.0.7)\n",
            "Requirement already satisfied: certifi>=2017.4.17 in /usr/local/lib/python3.10/dist-packages (from requests->flask-ngrok) (2024.2.2)\n",
            "Requirement already satisfied: MarkupSafe>=2.0 in /usr/local/lib/python3.10/dist-packages (from Jinja2>=3.0->Flask>=0.8->flask-ngrok) (2.1.5)\n",
            "Requirement already satisfied: pyngrok in /usr/local/lib/python3.10/dist-packages (7.1.6)\n",
            "Requirement already satisfied: PyYAML>=5.1 in /usr/local/lib/python3.10/dist-packages (from pyngrok) (6.0.1)\n"
          ]
        }
      ],
      "source": [
        "# package for using ngrok for flask webapp\n",
        "!pip install flask-ngrok\n",
        "# python ngrok API\n",
        "!pip install pyngrok"
      ]
    },
    {
      "cell_type": "code",
      "source": [
        "import sqlite3\n",
        "from flask import Flask, jsonify, request, abort\n",
        "from pyngrok import ngrok\n",
        "from flask_ngrok import run_with_ngrok\n",
        "\n",
        "#initialising the ngrok token\n",
        "!ngrok authtoken '2f9zEseG0VK1372lev57d10LEtF_22hmWw1WojPe1w7GozYr3'\n",
        "app = Flask(__name__)\n",
        "run_with_ngrok(app)  # Start ngrok when app is run\n",
        "\n",
        "\"\"\"\n",
        "Creating a Ledger App class to define methods for get records, edit, delete and make a transaction operation\n",
        "\"\"\"\n",
        "class LedgerApp:\n",
        "    def __init__(self):\n",
        "        self.records = [\n",
        "            {'name': 'Joe', 'balance': 100},\n",
        "            {'name': 'Bill', 'balance': 200},\n",
        "            {'name': 'Mary', 'balance': 300},\n",
        "            {'name': 'Mark', 'balance': 400}\n",
        "        ]\n",
        "\n",
        "    def get_records(self):\n",
        "        #This method returns all the records\n",
        "        return jsonify({'records': self.records})\n",
        "\n",
        "    def get_record(self, name):\n",
        "        #This method gets the record of the name\n",
        "        record = next((item for item in self.records if item['name'] == name), None)\n",
        "        return jsonify(record) if record else abort(404)\n",
        "\n",
        "    def add_record(self):\n",
        "        #This method add the record\n",
        "        if not request.json or 'name' not in request.json or 'balance' not in request.json:\n",
        "            abort(400)\n",
        "        new_record = {\n",
        "            'name': request.json['name'],\n",
        "            'balance': request.json['balance']\n",
        "        }\n",
        "        self.records.append(new_record)\n",
        "        return jsonify(self.records), 201\n",
        "\n",
        "    def update_record(self, name):\n",
        "        #This method edits the name of a record\n",
        "        record = next((item for item in self.records if item['name'] == name), None)\n",
        "        if record:\n",
        "            record.update(request.json)\n",
        "            return jsonify(self.records)\n",
        "        else:\n",
        "            abort(404)\n",
        "\n",
        "    def delete_record(self, name):\n",
        "        #This method deletes the record\n",
        "        self.records = [record for record in self.records if record['name'] != name]\n",
        "        return jsonify(self.records)\n",
        "\n",
        "    def make_transaction(self):\n",
        "        #This method makes the transaction from sender to receiver\n",
        "        if request.method == 'PUT':\n",
        "              new_record = request.get_json()\n",
        "              sender_name = new_record['sender']\n",
        "              receiver_name = new_record['receiver']\n",
        "              sent_amt = new_record['sent_amt']\n",
        "\n",
        "              sender_found = False\n",
        "              receiver_found = False\n",
        "\n",
        "              # Check if sender and receiver exist in records\n",
        "              for r in self.records:\n",
        "                  if r['name'] == sender_name:\n",
        "                      sender_found = True\n",
        "                      sender_balance = r['balance']\n",
        "                  if r['name'] == receiver_name:\n",
        "                      receiver_found = True\n",
        "\n",
        "              if not sender_found or not receiver_found:\n",
        "                  return jsonify({'error': 'Sender or Receiver not found'}), 404\n",
        "\n",
        "              # Check if sender has sufficient balance\n",
        "              if sender_balance < sent_amt:\n",
        "                  return jsonify({'error': 'Insufficient Balance'}), 400\n",
        "\n",
        "              # Debit the balance from sender and credit to receiver\n",
        "              for r in self.records:\n",
        "                  if r['name'] == sender_name:\n",
        "                      r['balance'] -= sent_amt\n",
        "                  if r['name'] == receiver_name:\n",
        "                      r['balance'] += sent_amt\n",
        "              return jsonify({'records': self.records})\n",
        "        else:\n",
        "          return jsonify({'error': 'Method not allowed'}), 405\n",
        "\n",
        "ledger_app = LedgerApp()\n",
        "\n",
        "@app.route('/')\n",
        "def home():\n",
        "    return jsonify({'message': 'Simple ledger webapp is up and running!'})\n",
        "\n",
        "@app.route('/records', methods=['GET'])\n",
        "def get_records():\n",
        "    return ledger_app.get_records()\n",
        "\n",
        "@app.route('/records/<string:name>', methods=['GET'])\n",
        "def get_record(name):\n",
        "    return ledger_app.get_record(name)\n",
        "\n",
        "@app.route('/records', methods=['POST'])\n",
        "def add_record():\n",
        "    return ledger_app.add_record()\n",
        "\n",
        "@app.route('/records/<string:name>', methods=['PUT'])\n",
        "def update_record(name):\n",
        "    return ledger_app.update_record(name)\n",
        "\n",
        "@app.route('/records/<string:name>', methods=['DELETE'])\n",
        "def delete_record(name):\n",
        "    return ledger_app.delete_record(name)\n",
        "\n",
        "@app.route('/records/transaction', methods=['PUT'])\n",
        "def make_transaction():\n",
        "    return ledger_app.make_transaction()\n",
        "\n",
        "if __name__ == '__main__':\n",
        "    public_url = ngrok.connect(5000).public_url\n",
        "    print(\"URL\", public_url)\n",
        "    app.run()\n"
      ],
      "metadata": {
        "id": "47ctfg_X272n",
        "colab": {
          "base_uri": "https://localhost:8080/"
        },
        "outputId": "27acad3f-1f2a-4312-e5c7-21a7c8237c97"
      },
      "execution_count": 9,
      "outputs": [
        {
          "metadata": {
            "tags": null
          },
          "name": "stdout",
          "output_type": "stream",
          "text": [
            "Authtoken saved to configuration file: /root/.config/ngrok/ngrok.yml\n",
            "URL https://8576-35-185-44-196.ngrok-free.app\n",
            " * Serving Flask app '__main__'\n",
            " * Debug mode: off\n"
          ]
        },
        {
          "metadata": {
            "tags": null
          },
          "name": "stderr",
          "output_type": "stream",
          "text": [
            "INFO:werkzeug:\u001b[31m\u001b[1mWARNING: This is a development server. Do not use it in a production deployment. Use a production WSGI server instead.\u001b[0m\n",
            " * Running on http://127.0.0.1:5000\n",
            "INFO:werkzeug:\u001b[33mPress CTRL+C to quit\u001b[0m\n"
          ]
        },
        {
          "metadata": {
            "tags": null
          },
          "name": "stdout",
          "output_type": "stream",
          "text": [
            " * Running on http://8576-35-185-44-196.ngrok-free.app\n",
            " * Traffic stats available on http://127.0.0.1:4040\n"
          ]
        },
        {
          "metadata": {
            "tags": null
          },
          "name": "stderr",
          "output_type": "stream",
          "text": [
            "INFO:werkzeug:127.0.0.1 - - [16/Apr/2024 00:41:37] \"GET / HTTP/1.1\" 200 -\n",
            "INFO:werkzeug:127.0.0.1 - - [16/Apr/2024 00:41:40] \"GET /records HTTP/1.1\" 200 -\n",
            "INFO:werkzeug:127.0.0.1 - - [16/Apr/2024 00:41:47] \"GET /records/Mary HTTP/1.1\" 200 -\n",
            "INFO:werkzeug:127.0.0.1 - - [16/Apr/2024 00:41:48] \"\u001b[35m\u001b[1mPOST /records HTTP/1.1\u001b[0m\" 201 -\n",
            "INFO:werkzeug:127.0.0.1 - - [16/Apr/2024 00:41:51] \"PUT /records/Ted HTTP/1.1\" 200 -\n",
            "INFO:werkzeug:127.0.0.1 - - [16/Apr/2024 00:42:02] \"DELETE /records/Ned HTTP/1.1\" 200 -\n",
            "INFO:werkzeug:127.0.0.1 - - [16/Apr/2024 00:42:16] \"PUT /records/transaction HTTP/1.1\" 200 -\n"
          ]
        }
      ]
    },
    {
      "cell_type": "code",
      "source": [
        "%%html\n",
        "<h1 style=\"color:orange;\">END OF PROJECT</h1>"
      ],
      "metadata": {
        "colab": {
          "base_uri": "https://localhost:8080/",
          "height": 74
        },
        "id": "QEkompT0YqZE",
        "outputId": "50e22474-fba1-4717-d77d-78b196df1015"
      },
      "execution_count": 11,
      "outputs": [
        {
          "output_type": "display_data",
          "data": {
            "text/plain": [
              "<IPython.core.display.HTML object>"
            ],
            "text/html": [
              "<h1 style=\"color:orange;\">END OF PROJECT</h1>\n"
            ]
          },
          "metadata": {}
        }
      ]
    }
  ]
}