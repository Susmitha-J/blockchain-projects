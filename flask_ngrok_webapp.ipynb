{
  "nbformat": 4,
  "nbformat_minor": 0,
  "metadata": {
    "colab": {
      "provenance": []
    },
    "kernelspec": {
      "name": "python3",
      "display_name": "Python 3"
    },
    "language_info": {
      "name": "python"
    }
  },
  "cells": [
    {
      "cell_type": "code",
      "source": [
        "%%html\n",
        "<h1 style=\"color:orange;\">INTRO TO BLOCK CHAIN ENGINEERING - PROJECT-9 Flask Ngrok Web app - 12613141</h1>"
      ],
      "metadata": {
        "colab": {
          "base_uri": "https://localhost:8080/",
          "height": 74
        },
        "id": "TIuF-rmM3C2M",
        "outputId": "16299fc6-3552-459d-cdcb-c044c9048a77"
      },
      "execution_count": 9,
      "outputs": [
        {
          "output_type": "display_data",
          "data": {
            "text/plain": [
              "<IPython.core.display.HTML object>"
            ],
            "text/html": [
              "<h1 style=\"color:orange;\">INTRO TO BLOCK CHAIN ENGINEERING - PROJECT-9 Flask Ngrok Web app - 12613141</h1>\n"
            ]
          },
          "metadata": {}
        }
      ]
    },
    {
      "cell_type": "markdown",
      "source": [
        "Installing Libraries required pyngrok and flask\n",
        "\n",
        "---\n",
        "\n"
      ],
      "metadata": {
        "id": "tLSqwDON35bu"
      }
    },
    {
      "cell_type": "code",
      "execution_count": 10,
      "metadata": {
        "colab": {
          "base_uri": "https://localhost:8080/"
        },
        "id": "70VvxRI0GE92",
        "outputId": "72626d21-5523-49cb-fe58-1dfdb39465f2"
      },
      "outputs": [
        {
          "output_type": "stream",
          "name": "stdout",
          "text": [
            "Requirement already satisfied: pyngrok in /usr/local/lib/python3.10/dist-packages (7.1.6)\n",
            "Requirement already satisfied: PyYAML>=5.1 in /usr/local/lib/python3.10/dist-packages (from pyngrok) (6.0.1)\n"
          ]
        }
      ],
      "source": [
        "!pip install pyngrok"
      ]
    },
    {
      "cell_type": "code",
      "source": [
        "from flask import Flask\n",
        "from pyngrok import ngrok"
      ],
      "metadata": {
        "id": "9SnMp30rGRIt"
      },
      "execution_count": 11,
      "outputs": []
    },
    {
      "cell_type": "markdown",
      "source": [
        "Creating project folder structure for flask\n",
        "\n",
        "---\n",
        "\n"
      ],
      "metadata": {
        "id": "k2IW3c_W4Btm"
      }
    },
    {
      "cell_type": "code",
      "source": [
        "!mkdir flask_blog\n",
        "!mkdir flask_blog/static\n",
        "!mkdir flask_blog/templates\n",
        "!mkdir flask_blog/static/css"
      ],
      "metadata": {
        "id": "kyvJXNHMGijJ",
        "colab": {
          "base_uri": "https://localhost:8080/"
        },
        "outputId": "5aeb376c-8dfd-4ab5-8c0c-439d6e76a31e"
      },
      "execution_count": 12,
      "outputs": [
        {
          "output_type": "stream",
          "name": "stdout",
          "text": [
            "mkdir: cannot create directory ‘flask_blog’: File exists\n",
            "mkdir: cannot create directory ‘flask_blog/static’: File exists\n",
            "mkdir: cannot create directory ‘flask_blog/templates’: File exists\n",
            "mkdir: cannot create directory ‘flask_blog/static/css’: File exists\n"
          ]
        }
      ]
    },
    {
      "cell_type": "markdown",
      "source": [
        "\n",
        "\n",
        "\n",
        "---\n",
        "\n",
        "\n",
        "1.  Creating styles of css extension and storing in static folder\n",
        "2.  Creating html pages of html extension and storing in templates folder\n",
        "3.  Creating schema file sql file\n",
        "4.  Creating database using sqlite with schema.sql file and storing posts\n",
        "\n",
        "\n",
        "---\n",
        "\n",
        "\n",
        "\n",
        "\n",
        "\n",
        "\n"
      ],
      "metadata": {
        "id": "kEk9cc564Nsn"
      }
    },
    {
      "cell_type": "code",
      "source": [
        "%%writefile  flask_blog/static/style.css\n",
        "h1 {\n",
        "    border: 2px #eee solid;\n",
        "    color: brown;\n",
        "    text-align: center;\n",
        "    padding: 10px;\n",
        "}"
      ],
      "metadata": {
        "id": "Q9MObFU8q1un",
        "outputId": "e40d010a-ace8-4e62-f7f3-120f6d3c4c92",
        "colab": {
          "base_uri": "https://localhost:8080/"
        }
      },
      "execution_count": 13,
      "outputs": [
        {
          "output_type": "stream",
          "name": "stdout",
          "text": [
            "Writing flask_blog/static/style.css\n"
          ]
        }
      ]
    },
    {
      "cell_type": "code",
      "source": [
        "%%writefile flask_blog/templates/base.html\n",
        "<!doctype html>\n",
        "<html lang=\"en\">\n",
        "  <head>\n",
        "    <!-- Required meta tags -->\n",
        "    <meta charset=\"utf-8\">\n",
        "    <meta name=\"viewport\" content=\"width=device-width, initial-scale=1, shrink-to-fit=no\">\n",
        "\n",
        "    <!-- Bootstrap CSS -->\n",
        "    <link rel=\"stylesheet\" href=\"https://stackpath.bootstrapcdn.com/bootstrap/4.3.1/css/bootstrap.min.css\" integrity=\"sha384-ggOyR0iXCbMQv3Xipma34MD+dH/1fQ784/j6cY/iJTQUOhcWr7x9JvoRxT2MZw1T\" crossorigin=\"anonymous\">\n",
        "\n",
        "    <title>{% block title %} {% endblock %}</title>\n",
        "  </head>\n",
        "  <body>\n",
        "      <nav class=\"navbar navbar-expand-md navbar-light bg-light\">\n",
        "        <a class=\"navbar-brand\" href=\"{{ url_for('index')}}\">FlaskBlog</a>\n",
        "        <button class=\"navbar-toggler\" type=\"button\" data-toggle=\"collapse\" data-target=\"#navbarNav\" aria-controls=\"navbarNav\" aria-expanded=\"false\" aria-label=\"Toggle navigation\">\n",
        "            <span class=\"navbar-toggler-icon\"></span>\n",
        "        </button>\n",
        "        <div class=\"collapse navbar-collapse\" id=\"navbarNav\">\n",
        "            <ul class=\"navbar-nav\">\n",
        "            <li class=\"nav-item\">\n",
        "                <a class=\"nav-link\" href=\"#\">About</a>\n",
        "            </li>\n",
        "            <li class=\"nav-item\">\n",
        "                <a class=\"nav-link\" href=\"{{url_for('create')}}\">New Post</a>\n",
        "            </li>\n",
        "            </ul>\n",
        "        </div>\n",
        "      </nav>\n",
        "    <div class=\"container\">\n",
        "        {% for message in get_flashed_messages() %}\n",
        "            <div class=\"alert alert-danger\">{{ message }}</div>\n",
        "        {% endfor %}\n",
        "        {% block content %} {% endblock %}\n",
        "    </div>\n",
        "\n",
        "    <!-- Optional JavaScript -->\n",
        "    <!-- jQuery first, then Popper.js, then Bootstrap JS -->\n",
        "    <script src=\"https://code.jquery.com/jquery-3.3.1.slim.min.js\" integrity=\"sha384-q8i/X+965DzO0rT7abK41JStQIAqVgRVzpbzo5smXKp4YfRvH+8abtTE1Pi6jizo\" crossorigin=\"anonymous\"></script>\n",
        "    <script src=\"https://cdnjs.cloudflare.com/ajax/libs/popper.js/1.14.7/umd/popper.min.js\" integrity=\"sha384-UO2eT0CpHqdSJQ6hJty5KVphtPhzWj9WO1clHTMGa3JDZwrnQq4sF86dIHNDz0W1\" crossorigin=\"anonymous\"></script>\n",
        "    <script src=\"https://stackpath.bootstrapcdn.com/bootstrap/4.3.1/js/bootstrap.min.js\" integrity=\"sha384-JjSmVgyd0p3pXB1rRibZUAYoIIy6OrQ6VrjIEaFf/nJGzIxFDsf4x0xIM+B07jRM\" crossorigin=\"anonymous\"></script>\n",
        "  </body>\n",
        "</html>\n"
      ],
      "metadata": {
        "id": "tOE2AVslq6i7",
        "outputId": "37b019c5-1fc4-4e2e-b5f3-b698e802f99b",
        "colab": {
          "base_uri": "https://localhost:8080/"
        }
      },
      "execution_count": 14,
      "outputs": [
        {
          "output_type": "stream",
          "name": "stdout",
          "text": [
            "Writing flask_blog/templates/base.html\n"
          ]
        }
      ]
    },
    {
      "cell_type": "code",
      "source": [
        "%%writefile flask_blog/templates/create.html\n",
        "{% extends 'base.html' %}\n",
        "\n",
        "{% block content %}\n",
        "<h1>{% block title %} Create a New Post {% endblock %}</h1>\n",
        "\n",
        "<form method=\"post\">\n",
        "    <div class=\"form-group\">\n",
        "        <label for=\"title\">Title</label>\n",
        "        <input type=\"text\" name=\"title\"\n",
        "               placeholder=\"Post title\" class=\"form-control\"\n",
        "               value=\"{{ request.form['title'] }}\"></input>\n",
        "    </div>\n",
        "\n",
        "    <div class=\"form-group\">\n",
        "        <label for=\"content\">Content</label>\n",
        "        <textarea name=\"content\" placeholder=\"Post content\"\n",
        "                  class=\"form-control\">{{ request.form['content'] }}</textarea>\n",
        "    </div>\n",
        "    <div class=\"form-group\">\n",
        "        <button type=\"submit\" class=\"btn btn-primary\">Submit</button>\n",
        "    </div>\n",
        "</form>\n",
        "{% endblock %}"
      ],
      "metadata": {
        "id": "c2vjzBRJrDU_",
        "outputId": "e4d48e12-ab8e-418e-fe04-56b9d5bd1482",
        "colab": {
          "base_uri": "https://localhost:8080/"
        }
      },
      "execution_count": 15,
      "outputs": [
        {
          "output_type": "stream",
          "name": "stdout",
          "text": [
            "Writing flask_blog/templates/create.html\n"
          ]
        }
      ]
    },
    {
      "cell_type": "code",
      "source": [
        "%%writefile flask_blog/templates/edit.html\n",
        "{% extends 'base.html' %}\n",
        "\n",
        "{% block content %}\n",
        "<h1>{% block title %} Edit \"{{ post['title'] }}\" {% endblock %}</h1>\n",
        "\n",
        "<form method=\"post\">\n",
        "    <div class=\"form-group\">\n",
        "        <label for=\"title\">Title</label>\n",
        "        <input type=\"text\" name=\"title\" placeholder=\"Post title\"\n",
        "               class=\"form-control\"\n",
        "               value=\"{{ request.form['title'] or post['title'] }}\">\n",
        "        </input>\n",
        "    </div>\n",
        "\n",
        "    <div class=\"form-group\">\n",
        "        <label for=\"content\">Content</label>\n",
        "        <textarea name=\"content\" placeholder=\"Post content\"\n",
        "                  class=\"form-control\">{{ request.form['content'] or post['content'] }}</textarea>\n",
        "    </div>\n",
        "    <div class=\"form-group\">\n",
        "        <button type=\"submit\" class=\"btn btn-primary\">Submit</button>\n",
        "    </div>\n",
        "</form>\n",
        "<hr>\n",
        "<form action=\"{{ url_for('delete', id=post['id']) }}\" method=\"POST\">\n",
        "    <input type=\"submit\" value=\"Delete Post\"\n",
        "            class=\"btn btn-danger btn-sm\"\n",
        "            onclick=\"return confirm('Are you sure you want to delete this post?')\">\n",
        "</form>\n",
        "{% endblock %}\n",
        "\n"
      ],
      "metadata": {
        "id": "Y_MPmMqMrIfc",
        "outputId": "40f0bfc2-e594-48ba-a576-fcaee5c6ac8d",
        "colab": {
          "base_uri": "https://localhost:8080/"
        }
      },
      "execution_count": 16,
      "outputs": [
        {
          "output_type": "stream",
          "name": "stdout",
          "text": [
            "Writing flask_blog/templates/edit.html\n"
          ]
        }
      ]
    },
    {
      "cell_type": "code",
      "source": [
        "%%writefile flask_blog/templates/index.html\n",
        "{% extends 'base.html' %}\n",
        "\n",
        "{% block content %}\n",
        "    <h1>{% block title %} Welcome to FlaskBlog {% endblock %}</h1>\n",
        "    {% for post in posts %}\n",
        "        <a href=\"{{ url_for('post', post_id=post['id']) }}\">\n",
        "            <h2>{{ post['title'] }}</h2>\n",
        "        </a>\n",
        "        <span class=\"badge badge-primary\">{{ post['created'] }}</span>\n",
        "        <a href=\"{{ url_for('edit', id=post['id']) }}\">\n",
        "            <span class=\"badge badge-warning\">Edit</span>\n",
        "        </a>\n",
        "        <hr>\n",
        "    {% endfor %}\n",
        "{% endblock %}"
      ],
      "metadata": {
        "id": "3y_rsjNzrNhL",
        "outputId": "c02696ee-0f4d-431d-e232-a0f7be59ef93",
        "colab": {
          "base_uri": "https://localhost:8080/"
        }
      },
      "execution_count": 17,
      "outputs": [
        {
          "output_type": "stream",
          "name": "stdout",
          "text": [
            "Writing flask_blog/templates/index.html\n"
          ]
        }
      ]
    },
    {
      "cell_type": "code",
      "source": [
        "%%writefile flask_blog/templates/post.html\n",
        "{% extends 'base.html' %}\n",
        "\n",
        "{% block content %}\n",
        "    <h2>{% block title %} {{ post['title'] }} {% endblock %}</h2>\n",
        "    <span class=\"badge badge-primary\">{{ post['created'] }}</span>\n",
        "    <p>{{ post['content'] }}</p>\n",
        "{% endblock %}"
      ],
      "metadata": {
        "id": "uj5dj_3NrSYd",
        "outputId": "e752aa3e-88d0-421d-9a78-bb56d1ee67e3",
        "colab": {
          "base_uri": "https://localhost:8080/"
        }
      },
      "execution_count": 18,
      "outputs": [
        {
          "output_type": "stream",
          "name": "stdout",
          "text": [
            "Writing flask_blog/templates/post.html\n"
          ]
        }
      ]
    },
    {
      "cell_type": "code",
      "source": [
        "%%writefile flask_blog/schema.sql\n",
        "DROP TABLE IF EXISTS posts;\n",
        "\n",
        "CREATE TABLE posts (\n",
        "    id INTEGER PRIMARY KEY AUTOINCREMENT,\n",
        "    created TIMESTAMP NOT NULL DEFAULT CURRENT_TIMESTAMP,\n",
        "    title TEXT NOT NULL,\n",
        "    content TEXT NOT NULL\n",
        ");"
      ],
      "metadata": {
        "id": "fix6Fu9XrWVT",
        "outputId": "e3a55bac-bea6-4ca1-b530-cb7253b9d4f3",
        "colab": {
          "base_uri": "https://localhost:8080/"
        }
      },
      "execution_count": 19,
      "outputs": [
        {
          "output_type": "stream",
          "name": "stdout",
          "text": [
            "Writing flask_blog/schema.sql\n"
          ]
        }
      ]
    },
    {
      "cell_type": "markdown",
      "source": [
        "Connecting to database.db and creating posts table using schema.sql scripts\n",
        "Inserting dummy posts by making and connection and closing it\n",
        "\n",
        "\n",
        "\n",
        "---\n",
        "\n"
      ],
      "metadata": {
        "id": "4OFBhEkaBFgr"
      }
    },
    {
      "cell_type": "code",
      "source": [
        "import sqlite3\n",
        "\n",
        "connection = sqlite3.connect('flask_blog/database.db')\n",
        "\n",
        "with open('flask_blog/schema.sql') as f:\n",
        "    connection.executescript(f.read())\n",
        "\n",
        "cur = connection.cursor()\n",
        "\n",
        "cur.execute(\"INSERT INTO posts (title, content) VALUES (?, ?)\",\n",
        "            ('First Post', 'Content for the first post')\n",
        "            )\n",
        "\n",
        "cur.execute(\"INSERT INTO posts (title, content) VALUES (?, ?)\",\n",
        "            ('Second Post', 'Content for the second post')\n",
        "            )\n",
        "\n",
        "connection.commit()\n",
        "connection.close()"
      ],
      "metadata": {
        "id": "tNdWrVWRraaD"
      },
      "execution_count": 20,
      "outputs": []
    },
    {
      "cell_type": "markdown",
      "source": [
        "Defining a port number on which our web server blog runs\n",
        "\n",
        "\n",
        "---\n",
        "\n"
      ],
      "metadata": {
        "id": "PResEaK8Bi0X"
      }
    },
    {
      "cell_type": "code",
      "source": [
        "port_no = 5000"
      ],
      "metadata": {
        "id": "mG1TsNyQG3j8"
      },
      "execution_count": 21,
      "outputs": []
    },
    {
      "cell_type": "markdown",
      "source": [
        "Instantiating an app using Flask and ngrok with auth_token, and app is configured with basic url and secret key\n",
        "Generating a public URL using ngrok\n",
        "Creating routes for html templates to perform crud operations for the blog\n",
        "Create, read, update, delete operations on posts.\n",
        "\n",
        "---\n",
        "\n"
      ],
      "metadata": {
        "id": "aqVAlwqDBvma"
      }
    },
    {
      "cell_type": "code",
      "source": [
        "import sqlite3\n",
        "from flask import Flask, render_template, request, url_for, flash, redirect\n",
        "from werkzeug.exceptions import abort\n",
        "from pyngrok import ngrok\n",
        "\n",
        "def get_db_connection():\n",
        "    conn = sqlite3.connect('flask_blog/database.db')\n",
        "    conn.row_factory = sqlite3.Row\n",
        "    return conn\n",
        "\n",
        "\n",
        "def get_post(post_id):\n",
        "    conn = get_db_connection()\n",
        "    post = conn.execute('SELECT * FROM posts WHERE id = ?',\n",
        "                        (post_id,)).fetchone()\n",
        "    conn.close()\n",
        "    if post is None:\n",
        "        abort(404)\n",
        "    return post\n",
        "\n",
        "#Defining a flask a\n",
        "app = Flask(__name__, static_folder=\"flask_blog/static\", template_folder=\"flask_blog/templates\")\n",
        "ngrok.set_auth_token(\"2ebbESDbvFrGryxHs1U7tpDZ2SY_3mxQiSvWov2wQvovyDHeH\")\n",
        "public_url =  ngrok.connect(port_no).public_url\n",
        "app.config[\"SECRET_KEY\"] = \"2ebbESDbvFrGryxHs1U7tpDZ2SY_3mxQiSvWov2wQvovyDHeH\"\n",
        "\n",
        "@app.route('/')\n",
        "def index():\n",
        "    conn = get_db_connection()\n",
        "    posts = conn.execute('SELECT * FROM posts').fetchall()\n",
        "    conn.close()\n",
        "    return render_template('index.html', posts=posts)\n",
        "\n",
        "\n",
        "@app.route('/<int:post_id>')\n",
        "def post(post_id):\n",
        "    post = get_post(post_id)\n",
        "    return render_template('post.html', post=post)\n",
        "\n",
        "\n",
        "@app.route('/create', methods=('GET', 'POST'))\n",
        "def create():\n",
        "    if request.method == 'POST':\n",
        "        title = request.form['title']\n",
        "        content = request.form['content']\n",
        "\n",
        "        if not title:\n",
        "            flash('Title is required!')\n",
        "        else:\n",
        "            conn = get_db_connection()\n",
        "            conn.execute('INSERT INTO posts (title, content) VALUES (?, ?)',\n",
        "                         (title, content))\n",
        "            conn.commit()\n",
        "            conn.close()\n",
        "            return redirect(url_for('index'))\n",
        "\n",
        "    return render_template('create.html')\n",
        "\n",
        "\n",
        "@app.route('/<int:id>/edit', methods=('GET', 'POST'))\n",
        "def edit(id):\n",
        "    post = get_post(id)\n",
        "\n",
        "    if request.method == 'POST':\n",
        "        title = request.form['title']\n",
        "        content = request.form['content']\n",
        "\n",
        "        if not title:\n",
        "            flash('Title is required!')\n",
        "        else:\n",
        "            conn = get_db_connection()\n",
        "            conn.execute('UPDATE posts SET title = ?, content = ?'\n",
        "                         ' WHERE id = ?',\n",
        "                         (title, content, id))\n",
        "            conn.commit()\n",
        "            conn.close()\n",
        "            return redirect(url_for('index'))\n",
        "\n",
        "    return render_template('edit.html', post=post)\n",
        "\n",
        "\n",
        "@app.route('/<int:id>/delete', methods=('POST',))\n",
        "def delete(id):\n",
        "    post = get_post(id)\n",
        "    conn = get_db_connection()\n",
        "    conn.execute('DELETE FROM posts WHERE id = ?', (id,))\n",
        "    conn.commit()\n",
        "    conn.close()\n",
        "    flash('\"{}\" was successfully deleted!'.format(post['title']))\n",
        "    return redirect(url_for('index'))\n",
        "\n",
        "print(f\"To acces the Gloable link please click {public_url}\")\n",
        "app.run(port=port_no)"
      ],
      "metadata": {
        "id": "AlZDmXjdHc1D",
        "outputId": "1c66b569-7b25-4caa-ca42-e042b09e2ab3",
        "colab": {
          "base_uri": "https://localhost:8080/"
        }
      },
      "execution_count": 25,
      "outputs": [
        {
          "output_type": "stream",
          "name": "stdout",
          "text": [
            "To acces the Gloable link please click https://8618-34-73-147-117.ngrok-free.app\n",
            " * Serving Flask app '__main__'\n",
            " * Debug mode: off\n"
          ]
        },
        {
          "output_type": "stream",
          "name": "stderr",
          "text": [
            "INFO:werkzeug:\u001b[31m\u001b[1mWARNING: This is a development server. Do not use it in a production deployment. Use a production WSGI server instead.\u001b[0m\n",
            " * Running on http://127.0.0.1:5000\n",
            "INFO:werkzeug:\u001b[33mPress CTRL+C to quit\u001b[0m\n",
            "INFO:werkzeug:127.0.0.1 - - [03/Apr/2024 22:29:18] \"GET / HTTP/1.1\" 200 -\n",
            "INFO:werkzeug:127.0.0.1 - - [03/Apr/2024 22:29:26] \"GET / HTTP/1.1\" 200 -\n",
            "INFO:werkzeug:127.0.0.1 - - [03/Apr/2024 22:29:28] \"GET /1/edit HTTP/1.1\" 200 -\n",
            "INFO:werkzeug:127.0.0.1 - - [03/Apr/2024 22:29:37] \"\u001b[32mPOST /1/edit HTTP/1.1\u001b[0m\" 302 -\n",
            "INFO:werkzeug:127.0.0.1 - - [03/Apr/2024 22:29:37] \"GET / HTTP/1.1\" 200 -\n",
            "INFO:werkzeug:127.0.0.1 - - [03/Apr/2024 22:29:46] \"GET /2/edit HTTP/1.1\" 200 -\n",
            "INFO:werkzeug:127.0.0.1 - - [03/Apr/2024 22:29:57] \"\u001b[32mPOST /2/edit HTTP/1.1\u001b[0m\" 302 -\n",
            "INFO:werkzeug:127.0.0.1 - - [03/Apr/2024 22:29:57] \"GET / HTTP/1.1\" 200 -\n",
            "INFO:werkzeug:127.0.0.1 - - [03/Apr/2024 22:30:00] \"GET /3/edit HTTP/1.1\" 200 -\n",
            "INFO:werkzeug:127.0.0.1 - - [03/Apr/2024 22:30:05] \"\u001b[32mPOST /3/delete HTTP/1.1\u001b[0m\" 302 -\n",
            "INFO:werkzeug:127.0.0.1 - - [03/Apr/2024 22:30:05] \"GET / HTTP/1.1\" 200 -\n",
            "INFO:werkzeug:127.0.0.1 - - [03/Apr/2024 22:30:16] \"\u001b[33mPOST /3/delete HTTP/1.1\u001b[0m\" 404 -\n",
            "INFO:werkzeug:127.0.0.1 - - [03/Apr/2024 22:30:19] \"\u001b[33mPOST /3/delete HTTP/1.1\u001b[0m\" 404 -\n",
            "INFO:werkzeug:127.0.0.1 - - [03/Apr/2024 22:30:24] \"\u001b[33mGET /3/edit HTTP/1.1\u001b[0m\" 404 -\n",
            "INFO:werkzeug:127.0.0.1 - - [03/Apr/2024 22:30:39] \"GET / HTTP/1.1\" 200 -\n",
            "INFO:werkzeug:127.0.0.1 - - [03/Apr/2024 22:30:48] \"GET /create HTTP/1.1\" 200 -\n",
            "INFO:werkzeug:127.0.0.1 - - [03/Apr/2024 22:31:02] \"\u001b[32mPOST /create HTTP/1.1\u001b[0m\" 302 -\n",
            "INFO:werkzeug:127.0.0.1 - - [03/Apr/2024 22:31:03] \"GET / HTTP/1.1\" 200 -\n",
            "INFO:werkzeug:127.0.0.1 - - [03/Apr/2024 22:31:07] \"GET /5/edit HTTP/1.1\" 200 -\n",
            "INFO:werkzeug:127.0.0.1 - - [03/Apr/2024 22:31:10] \"\u001b[32mPOST /5/delete HTTP/1.1\u001b[0m\" 302 -\n",
            "INFO:werkzeug:127.0.0.1 - - [03/Apr/2024 22:31:10] \"GET / HTTP/1.1\" 200 -\n",
            "INFO:werkzeug:127.0.0.1 - - [03/Apr/2024 22:31:18] \"GET /create HTTP/1.1\" 200 -\n",
            "INFO:werkzeug:127.0.0.1 - - [03/Apr/2024 22:31:30] \"\u001b[32mPOST /create HTTP/1.1\u001b[0m\" 302 -\n",
            "INFO:werkzeug:127.0.0.1 - - [03/Apr/2024 22:31:30] \"GET / HTTP/1.1\" 200 -\n",
            "INFO:werkzeug:127.0.0.1 - - [03/Apr/2024 22:31:37] \"GET /1 HTTP/1.1\" 200 -\n"
          ]
        }
      ]
    }
  ]
}